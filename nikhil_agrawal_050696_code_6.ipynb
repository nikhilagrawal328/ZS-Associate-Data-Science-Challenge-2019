{
 "cells": [
  {
   "cell_type": "markdown",
   "metadata": {},
   "source": [
    "### Import Libraries"
   ]
  },
  {
   "cell_type": "code",
   "execution_count": 1,
   "metadata": {},
   "outputs": [
    {
     "name": "stderr",
     "output_type": "stream",
     "text": [
      "Using TensorFlow backend.\n"
     ]
    }
   ],
   "source": [
    "import numpy as np\n",
    "import pandas as pd\n",
    "import os\n",
    "import matplotlib.pyplot as plt\n",
    "import seaborn as sns # Visualization\n",
    "from IPython.display import display, HTML\n",
    "from sklearn import metrics\n",
    "from sklearn.model_selection import StratifiedShuffleSplit\n",
    "from sklearn.ensemble import RandomForestClassifier\n",
    "from sklearn.model_selection import train_test_split\n",
    "from sklearn.model_selection import StratifiedKFold\n",
    "from sklearn import preprocessing\n",
    "from sklearn.model_selection import GridSearchCV\n",
    "from xgboost import XGBClassifier\n",
    "from sklearn.model_selection import train_test_split\n",
    "\n",
    "from keras.models import Sequential \n",
    "from keras.layers import Dense, Activation \n",
    "from keras.layers.normalization import BatchNormalization\n",
    "from keras import initializers\n",
    "from keras.layers import Dropout\n",
    "from keras.layers import Flatten\n",
    "from keras.layers.embeddings import Embedding\n",
    "from keras.layers import Dense, Input, Embedding, Lambda, Dropout, Activation, Reshape, GlobalAveragePooling1D, merge, Flatten, Bidirectional, CuDNNGRU, add, Conv1D, GlobalMaxPooling1D,MaxPooling1D\n",
    "from keras.layers import LSTM, Activation, Dense, Dropout, Input, Embedding\n",
    "from prettytable import PrettyTable"
   ]
  },
  {
   "cell_type": "code",
   "execution_count": 2,
   "metadata": {},
   "outputs": [],
   "source": [
    "os.chdir('G:/interview-bit-ZS')"
   ]
  },
  {
   "cell_type": "code",
   "execution_count": 3,
   "metadata": {},
   "outputs": [],
   "source": [
    "# Reading the data \n",
    "data=pd.read_csv('data.csv')"
   ]
  },
  {
   "cell_type": "code",
   "execution_count": 4,
   "metadata": {},
   "outputs": [
    {
     "data": {
      "text/html": [
       "<div>\n",
       "<style scoped>\n",
       "    .dataframe tbody tr th:only-of-type {\n",
       "        vertical-align: middle;\n",
       "    }\n",
       "\n",
       "    .dataframe tbody tr th {\n",
       "        vertical-align: top;\n",
       "    }\n",
       "\n",
       "    .dataframe thead th {\n",
       "        text-align: right;\n",
       "    }\n",
       "</style>\n",
       "<table border=\"1\" class=\"dataframe\">\n",
       "  <thead>\n",
       "    <tr style=\"text-align: right;\">\n",
       "      <th></th>\n",
       "      <th>Unnamed: 0</th>\n",
       "      <th>match_event_id</th>\n",
       "      <th>location_x</th>\n",
       "      <th>location_y</th>\n",
       "      <th>remaining_min</th>\n",
       "      <th>power_of_shot</th>\n",
       "      <th>knockout_match</th>\n",
       "      <th>game_season</th>\n",
       "      <th>remaining_sec</th>\n",
       "      <th>distance_of_shot</th>\n",
       "      <th>...</th>\n",
       "      <th>lat/lng</th>\n",
       "      <th>type_of_shot</th>\n",
       "      <th>type_of_combined_shot</th>\n",
       "      <th>match_id</th>\n",
       "      <th>team_id</th>\n",
       "      <th>remaining_min.1</th>\n",
       "      <th>power_of_shot.1</th>\n",
       "      <th>knockout_match.1</th>\n",
       "      <th>remaining_sec.1</th>\n",
       "      <th>distance_of_shot.1</th>\n",
       "    </tr>\n",
       "  </thead>\n",
       "  <tbody>\n",
       "    <tr>\n",
       "      <th>0</th>\n",
       "      <td>0</td>\n",
       "      <td>10.0</td>\n",
       "      <td>167.0</td>\n",
       "      <td>72.0</td>\n",
       "      <td>10.0</td>\n",
       "      <td>1.0</td>\n",
       "      <td>0.0</td>\n",
       "      <td>2000-01</td>\n",
       "      <td>27.0</td>\n",
       "      <td>38.0</td>\n",
       "      <td>...</td>\n",
       "      <td>45.539131, -122.651648</td>\n",
       "      <td>shot - 30</td>\n",
       "      <td>NaN</td>\n",
       "      <td>20000012</td>\n",
       "      <td>1610612747</td>\n",
       "      <td>10.00</td>\n",
       "      <td>1.0</td>\n",
       "      <td>50.608</td>\n",
       "      <td>54.2000</td>\n",
       "      <td>38.0</td>\n",
       "    </tr>\n",
       "    <tr>\n",
       "      <th>1</th>\n",
       "      <td>1</td>\n",
       "      <td>12.0</td>\n",
       "      <td>-157.0</td>\n",
       "      <td>0.0</td>\n",
       "      <td>10.0</td>\n",
       "      <td>1.0</td>\n",
       "      <td>0.0</td>\n",
       "      <td>2000-01</td>\n",
       "      <td>22.0</td>\n",
       "      <td>35.0</td>\n",
       "      <td>...</td>\n",
       "      <td>45.539131, -122.651648</td>\n",
       "      <td>shot - 45</td>\n",
       "      <td>NaN</td>\n",
       "      <td>20000012</td>\n",
       "      <td>1610612747</td>\n",
       "      <td>10.00</td>\n",
       "      <td>1.0</td>\n",
       "      <td>28.800</td>\n",
       "      <td>22.0000</td>\n",
       "      <td>35.0</td>\n",
       "    </tr>\n",
       "    <tr>\n",
       "      <th>2</th>\n",
       "      <td>2</td>\n",
       "      <td>35.0</td>\n",
       "      <td>-101.0</td>\n",
       "      <td>135.0</td>\n",
       "      <td>7.0</td>\n",
       "      <td>1.0</td>\n",
       "      <td>0.0</td>\n",
       "      <td>2000-01</td>\n",
       "      <td>45.0</td>\n",
       "      <td>36.0</td>\n",
       "      <td>...</td>\n",
       "      <td>45.539131, -122.651648</td>\n",
       "      <td>shot - 25</td>\n",
       "      <td>NaN</td>\n",
       "      <td>20000012</td>\n",
       "      <td>1610612747</td>\n",
       "      <td>92.64</td>\n",
       "      <td>1.0</td>\n",
       "      <td>0.000</td>\n",
       "      <td>63.7216</td>\n",
       "      <td>54.4</td>\n",
       "    </tr>\n",
       "    <tr>\n",
       "      <th>3</th>\n",
       "      <td>3</td>\n",
       "      <td>43.0</td>\n",
       "      <td>138.0</td>\n",
       "      <td>175.0</td>\n",
       "      <td>6.0</td>\n",
       "      <td>1.0</td>\n",
       "      <td>0.0</td>\n",
       "      <td>2000-01</td>\n",
       "      <td>52.0</td>\n",
       "      <td>42.0</td>\n",
       "      <td>...</td>\n",
       "      <td>45.539131, -122.651648</td>\n",
       "      <td>NaN</td>\n",
       "      <td>shot - 3</td>\n",
       "      <td>20000012</td>\n",
       "      <td>1610612747</td>\n",
       "      <td>NaN</td>\n",
       "      <td>1.0</td>\n",
       "      <td>122.608</td>\n",
       "      <td>52.0000</td>\n",
       "      <td>42.0</td>\n",
       "    </tr>\n",
       "    <tr>\n",
       "      <th>4</th>\n",
       "      <td>4</td>\n",
       "      <td>155.0</td>\n",
       "      <td>0.0</td>\n",
       "      <td>0.0</td>\n",
       "      <td>NaN</td>\n",
       "      <td>2.0</td>\n",
       "      <td>0.0</td>\n",
       "      <td>2000-01</td>\n",
       "      <td>19.0</td>\n",
       "      <td>20.0</td>\n",
       "      <td>...</td>\n",
       "      <td>45.539131, -122.651648</td>\n",
       "      <td>NaN</td>\n",
       "      <td>shot - 1</td>\n",
       "      <td>20000012</td>\n",
       "      <td>1610612747</td>\n",
       "      <td>42.64</td>\n",
       "      <td>2.0</td>\n",
       "      <td>0.000</td>\n",
       "      <td>19.0000</td>\n",
       "      <td>20.0</td>\n",
       "    </tr>\n",
       "  </tbody>\n",
       "</table>\n",
       "<p>5 rows × 28 columns</p>\n",
       "</div>"
      ],
      "text/plain": [
       "   Unnamed: 0  match_event_id  location_x  location_y  remaining_min  \\\n",
       "0           0            10.0       167.0        72.0           10.0   \n",
       "1           1            12.0      -157.0         0.0           10.0   \n",
       "2           2            35.0      -101.0       135.0            7.0   \n",
       "3           3            43.0       138.0       175.0            6.0   \n",
       "4           4           155.0         0.0         0.0            NaN   \n",
       "\n",
       "   power_of_shot  knockout_match game_season  remaining_sec  distance_of_shot  \\\n",
       "0            1.0             0.0     2000-01           27.0              38.0   \n",
       "1            1.0             0.0     2000-01           22.0              35.0   \n",
       "2            1.0             0.0     2000-01           45.0              36.0   \n",
       "3            1.0             0.0     2000-01           52.0              42.0   \n",
       "4            2.0             0.0     2000-01           19.0              20.0   \n",
       "\n",
       "   ...                 lat/lng type_of_shot type_of_combined_shot  match_id  \\\n",
       "0  ...  45.539131, -122.651648    shot - 30                   NaN  20000012   \n",
       "1  ...  45.539131, -122.651648    shot - 45                   NaN  20000012   \n",
       "2  ...  45.539131, -122.651648    shot - 25                   NaN  20000012   \n",
       "3  ...  45.539131, -122.651648          NaN              shot - 3  20000012   \n",
       "4  ...  45.539131, -122.651648          NaN              shot - 1  20000012   \n",
       "\n",
       "      team_id remaining_min.1 power_of_shot.1  knockout_match.1  \\\n",
       "0  1610612747           10.00             1.0            50.608   \n",
       "1  1610612747           10.00             1.0            28.800   \n",
       "2  1610612747           92.64             1.0             0.000   \n",
       "3  1610612747             NaN             1.0           122.608   \n",
       "4  1610612747           42.64             2.0             0.000   \n",
       "\n",
       "  remaining_sec.1 distance_of_shot.1  \n",
       "0         54.2000               38.0  \n",
       "1         22.0000               35.0  \n",
       "2         63.7216               54.4  \n",
       "3         52.0000               42.0  \n",
       "4         19.0000               20.0  \n",
       "\n",
       "[5 rows x 28 columns]"
      ]
     },
     "execution_count": 4,
     "metadata": {},
     "output_type": "execute_result"
    }
   ],
   "source": [
    "# Printing first five rows of the data\n",
    "data.head()"
   ]
  },
  {
   "cell_type": "code",
   "execution_count": 5,
   "metadata": {},
   "outputs": [],
   "source": [
    "data.drop(['Unnamed: 0'],axis=1,inplace=True)"
   ]
  },
  {
   "cell_type": "code",
   "execution_count": 6,
   "metadata": {},
   "outputs": [
    {
     "data": {
      "text/plain": [
       "(30697, 27)"
      ]
     },
     "execution_count": 6,
     "metadata": {},
     "output_type": "execute_result"
    }
   ],
   "source": [
    "# telling no of rows and columns in a dataset\n",
    "data.shape"
   ]
  },
  {
   "cell_type": "code",
   "execution_count": 7,
   "metadata": {},
   "outputs": [
    {
     "data": {
      "text/plain": [
       "Index(['match_event_id', 'location_x', 'location_y', 'remaining_min',\n",
       "       'power_of_shot', 'knockout_match', 'game_season', 'remaining_sec',\n",
       "       'distance_of_shot', 'is_goal', 'area_of_shot', 'shot_basics',\n",
       "       'range_of_shot', 'team_name', 'date_of_game', 'home/away',\n",
       "       'shot_id_number', 'lat/lng', 'type_of_shot', 'type_of_combined_shot',\n",
       "       'match_id', 'team_id', 'remaining_min.1', 'power_of_shot.1',\n",
       "       'knockout_match.1', 'remaining_sec.1', 'distance_of_shot.1'],\n",
       "      dtype='object')"
      ]
     },
     "execution_count": 7,
     "metadata": {},
     "output_type": "execute_result"
    }
   ],
   "source": [
    "# COlumns of a dataset\n",
    "data.columns"
   ]
  },
  {
   "cell_type": "code",
   "execution_count": 8,
   "metadata": {},
   "outputs": [
    {
     "data": {
      "text/plain": [
       "0.0    13550\n",
       "1.0    10879\n",
       "Name: is_goal, dtype: int64"
      ]
     },
     "execution_count": 8,
     "metadata": {},
     "output_type": "execute_result"
    }
   ],
   "source": [
    "# target variable count\n",
    "data.is_goal.value_counts()"
   ]
  },
  {
   "cell_type": "markdown",
   "metadata": {},
   "source": [
    "## 1. Exploratory Data Analysis"
   ]
  },
  {
   "cell_type": "code",
   "execution_count": 9,
   "metadata": {},
   "outputs": [
    {
     "data": {
      "image/png": "[encoded data removed]",
      "text/plain": [
       "<Figure size 720x504 with 1 Axes>"
      ]
     },
     "metadata": {
      "needs_background": "light"
     },
     "output_type": "display_data"
    }
   ],
   "source": [
    "# bar plot to visualise # of goals hit/fail\n",
    "ax = data.groupby('is_goal').count()['shot_id_number'].plot(\n",
    "kind='bar',\n",
    "color='blue',\n",
    "grid=True,\n",
    "figsize=(10, 7),\n",
    "title='# of goals hit/fail '\n",
    ")\n",
    "ax.set_xlabel('Goals')\n",
    "ax.set_ylabel('Count')\n",
    "plt.show()"
   ]
  },
  {
   "cell_type": "code",
   "execution_count": 10,
   "metadata": {},
   "outputs": [
    {
     "data": {
      "text/plain": [
       "is_goal\n",
       "0.0    0.418673\n",
       "1.0    0.336417\n",
       "Name: shot_id_number, dtype: float64"
      ]
     },
     "execution_count": 10,
     "metadata": {},
     "output_type": "execute_result"
    }
   ],
   "source": [
    "# Percentage of goals hit/fail\n",
    "data.groupby('is_goal').count()['shot_id_number']/data.shape[0]"
   ]
  },
  {
   "cell_type": "code",
   "execution_count": 11,
   "metadata": {},
   "outputs": [
    {
     "data": {
      "image/png": "[encoded data removed]",
      "text/plain": [
       "<Figure size 720x504 with 1 Axes>"
      ]
     },
     "metadata": {
      "needs_background": "light"
     },
     "output_type": "display_data"
    }
   ],
   "source": [
    "# Bar plot to show count of area of shot\n",
    "# plot shows the most prefered area in which ronaldo likes to play is Center\n",
    "ax = data.groupby('area_of_shot').count()['shot_id_number'].plot(\n",
    "kind='bar',\n",
    "color='orchid',\n",
    "grid=True,\n",
    "figsize=(10, 7),\n",
    "title='Areawise bar plot'\n",
    ")\n",
    "ax.set_xlabel('Area')\n",
    "ax.set_ylabel('Count')\n",
    "plt.show()"
   ]
  },
  {
   "cell_type": "code",
   "execution_count": 12,
   "metadata": {},
   "outputs": [
    {
     "data": {
      "text/plain": [
       "area_of_shot\n",
       "Center(C)                0.394273\n",
       "Left Side Center(LC)     0.118806\n",
       "Left Side(L)             0.110532\n",
       "Mid Ground(MG)           0.002411\n",
       "Right Side Center(RC)    0.141121\n",
       "Right Side(R)            0.135681\n",
       "Name: shot_id_number, dtype: float64"
      ]
     },
     "execution_count": 12,
     "metadata": {},
     "output_type": "execute_result"
    }
   ],
   "source": [
    "# percentage of area of shot\n",
    "data.groupby('area_of_shot').count()['shot_id_number']/data.shape[0]"
   ]
  },
  {
   "cell_type": "code",
   "execution_count": 13,
   "metadata": {},
   "outputs": [
    {
     "data": {
      "image/png": "[encoded data removed]",
      "text/plain": [
       "<Figure size 720x504 with 1 Axes>"
      ]
     },
     "metadata": {
      "needs_background": "light"
     },
     "output_type": "display_data"
    }
   ],
   "source": [
    "# Bar plot to show count of range of shot\n",
    "# plot shows the most prefered range of shot for ronaldo is less than 8 ft followed by 16.24 ft\n",
    "ax = data.groupby('range_of_shot').count()['shot_id_number'].plot(\n",
    "kind='bar',\n",
    "color='red',\n",
    "grid=True,\n",
    "figsize=(10, 7),\n",
    "title='Rangewise bar plot'\n",
    ")\n",
    "ax.set_xlabel('Range')\n",
    "ax.set_ylabel('Count')\n",
    "plt.show()"
   ]
  },
  {
   "cell_type": "code",
   "execution_count": 14,
   "metadata": {},
   "outputs": [
    {
     "data": {
      "text/plain": [
       "range_of_shot\n",
       "16-24 ft.          0.244617\n",
       "24+ ft.            0.183699\n",
       "8-16 ft.           0.194482\n",
       "Back Court Shot    0.002411\n",
       "Less Than 8 ft.    0.275564\n",
       "Name: shot_id_number, dtype: float64"
      ]
     },
     "execution_count": 14,
     "metadata": {},
     "output_type": "execute_result"
    }
   ],
   "source": [
    "data.groupby('range_of_shot').count()['shot_id_number']/data.shape[0]"
   ]
  },
  {
   "cell_type": "code",
   "execution_count": 15,
   "metadata": {},
   "outputs": [
    {
     "data": {
      "image/png": "[encoded data removed]",
      "text/plain": [
       "<Figure size 720x504 with 1 Axes>"
      ]
     },
     "metadata": {
      "needs_background": "light"
     },
     "output_type": "display_data"
    }
   ],
   "source": [
    "# Bar plot to show count of shots\n",
    "# plot shows the most prefered shot for ronaldo is Mid Range followed by Goal Area\n",
    "ax = data.groupby('shot_basics').count()['shot_id_number'].plot(\n",
    "kind='bar',\n",
    "color='blue',\n",
    "grid=True,\n",
    "figsize=(10, 7),\n",
    "title=''\n",
    ")\n",
    "ax.set_xlabel('Shot')\n",
    "ax.set_ylabel('Count')\n",
    "plt.show()"
   ]
  },
  {
   "cell_type": "code",
   "execution_count": 16,
   "metadata": {},
   "outputs": [
    {
     "data": {
      "text/plain": [
       "shot_basics\n",
       "Goal Area          0.209206\n",
       "Goal Line          0.134345\n",
       "Left Corner        0.008340\n",
       "Mid Ground Line    0.001955\n",
       "Mid Range          0.370720\n",
       "Penalty Spot       0.164283\n",
       "Right Corner       0.011565\n",
       "Name: shot_id_number, dtype: float64"
      ]
     },
     "execution_count": 16,
     "metadata": {},
     "output_type": "execute_result"
    }
   ],
   "source": [
    "data.groupby('shot_basics').count()['shot_id_number']/data.shape[0]"
   ]
  },
  {
   "cell_type": "code",
   "execution_count": 17,
   "metadata": {},
   "outputs": [
    {
     "data": {
      "image/png": "[encoded data removed]",
      "text/plain": [
       "<Figure size 720x504 with 1 Axes>"
      ]
     },
     "metadata": {
      "needs_background": "light"
     },
     "output_type": "display_data"
    }
   ],
   "source": [
    "# Bar plot to show count of games in each year\n",
    "# plot shows the most games ronaldo plays is in year 2005\n",
    "ax = data.groupby('game_season').count()['shot_id_number'].plot(\n",
    "kind='bar',\n",
    "color='blue',\n",
    "grid=True,\n",
    "figsize=(10, 7),\n",
    "title=''\n",
    ")\n",
    "ax.set_xlabel('Shot')\n",
    "ax.set_ylabel('Count')\n",
    "plt.show()"
   ]
  },
  {
   "cell_type": "code",
   "execution_count": 18,
   "metadata": {},
   "outputs": [
    {
     "data": {
      "text/plain": [
       "game_season\n",
       "1996-97    0.012053\n",
       "1997-98    0.024888\n",
       "1998-99    0.023553\n",
       "1999-00    0.038929\n",
       "2000-01    0.046389\n",
       "2001-02    0.050396\n",
       "2002-03    0.056716\n",
       "2003-04    0.040623\n",
       "2004-05    0.033358\n",
       "2005-06    0.059354\n",
       "2006-07    0.047496\n",
       "2007-08    0.053100\n",
       "2008-09    0.055803\n",
       "2009-10    0.051015\n",
       "2010-11    0.045281\n",
       "2011-12    0.041535\n",
       "2012-13    0.039515\n",
       "2013-14    0.001857\n",
       "2014-15    0.018373\n",
       "2015-16    0.027788\n",
       "Name: shot_id_number, dtype: float64"
      ]
     },
     "execution_count": 18,
     "metadata": {},
     "output_type": "execute_result"
    }
   ],
   "source": [
    "data.groupby('game_season').count()['shot_id_number']/data.shape[0]"
   ]
  },
  {
   "cell_type": "code",
   "execution_count": 19,
   "metadata": {},
   "outputs": [],
   "source": [
    "by_area_range = data.loc[\n",
    "data['is_goal'] == 1.0\n",
    "].groupby([\n",
    "'area_of_shot', 'range_of_shot'\n",
    "]).count()['shot_id_number'] / data.groupby('area_of_shot').count()['shot_id_number']\n"
   ]
  },
  {
   "cell_type": "code",
   "execution_count": 20,
   "metadata": {},
   "outputs": [
    {
     "data": {
      "text/html": [
       "<div>\n",
       "<style scoped>\n",
       "    .dataframe tbody tr th:only-of-type {\n",
       "        vertical-align: middle;\n",
       "    }\n",
       "\n",
       "    .dataframe tbody tr th {\n",
       "        vertical-align: top;\n",
       "    }\n",
       "\n",
       "    .dataframe thead th {\n",
       "        text-align: right;\n",
       "    }\n",
       "</style>\n",
       "<table border=\"1\" class=\"dataframe\">\n",
       "  <thead>\n",
       "    <tr style=\"text-align: right;\">\n",
       "      <th>range_of_shot</th>\n",
       "      <th>16-24 ft.</th>\n",
       "      <th>24+ ft.</th>\n",
       "      <th>8-16 ft.</th>\n",
       "      <th>Back Court Shot</th>\n",
       "      <th>Less Than 8 ft.</th>\n",
       "    </tr>\n",
       "    <tr>\n",
       "      <th>area_of_shot</th>\n",
       "      <th></th>\n",
       "      <th></th>\n",
       "      <th></th>\n",
       "      <th></th>\n",
       "      <th></th>\n",
       "    </tr>\n",
       "  </thead>\n",
       "  <tbody>\n",
       "    <tr>\n",
       "      <th>Center(C)</th>\n",
       "      <td>0.027183</td>\n",
       "      <td>0.020739</td>\n",
       "      <td>0.049988</td>\n",
       "      <td>0.000000</td>\n",
       "      <td>0.300421</td>\n",
       "    </tr>\n",
       "    <tr>\n",
       "      <th>Left Side Center(LC)</th>\n",
       "      <td>0.144228</td>\n",
       "      <td>0.127502</td>\n",
       "      <td>0.000000</td>\n",
       "      <td>0.000000</td>\n",
       "      <td>0.000000</td>\n",
       "    </tr>\n",
       "    <tr>\n",
       "      <th>Left Side(L)</th>\n",
       "      <td>0.092249</td>\n",
       "      <td>0.020336</td>\n",
       "      <td>0.185971</td>\n",
       "      <td>0.000000</td>\n",
       "      <td>0.000000</td>\n",
       "    </tr>\n",
       "    <tr>\n",
       "      <th>Mid Ground(MG)</th>\n",
       "      <td>0.000000</td>\n",
       "      <td>0.000000</td>\n",
       "      <td>0.000000</td>\n",
       "      <td>0.013514</td>\n",
       "      <td>0.000000</td>\n",
       "    </tr>\n",
       "    <tr>\n",
       "      <th>Right Side Center(RC)</th>\n",
       "      <td>0.161127</td>\n",
       "      <td>0.126731</td>\n",
       "      <td>0.000000</td>\n",
       "      <td>0.000000</td>\n",
       "      <td>0.000000</td>\n",
       "    </tr>\n",
       "    <tr>\n",
       "      <th>Right Side(R)</th>\n",
       "      <td>0.094118</td>\n",
       "      <td>0.023049</td>\n",
       "      <td>0.183914</td>\n",
       "      <td>0.000000</td>\n",
       "      <td>0.000000</td>\n",
       "    </tr>\n",
       "  </tbody>\n",
       "</table>\n",
       "</div>"
      ],
      "text/plain": [
       "range_of_shot          16-24 ft.   24+ ft.  8-16 ft.  Back Court Shot  \\\n",
       "area_of_shot                                                            \n",
       "Center(C)               0.027183  0.020739  0.049988         0.000000   \n",
       "Left Side Center(LC)    0.144228  0.127502  0.000000         0.000000   \n",
       "Left Side(L)            0.092249  0.020336  0.185971         0.000000   \n",
       "Mid Ground(MG)          0.000000  0.000000  0.000000         0.013514   \n",
       "Right Side Center(RC)   0.161127  0.126731  0.000000         0.000000   \n",
       "Right Side(R)           0.094118  0.023049  0.183914         0.000000   \n",
       "\n",
       "range_of_shot          Less Than 8 ft.  \n",
       "area_of_shot                            \n",
       "Center(C)                     0.300421  \n",
       "Left Side Center(LC)          0.000000  \n",
       "Left Side(L)                  0.000000  \n",
       "Mid Ground(MG)                0.000000  \n",
       "Right Side Center(RC)         0.000000  \n",
       "Right Side(R)                 0.000000  "
      ]
     },
     "execution_count": 20,
     "metadata": {},
     "output_type": "execute_result"
    }
   ],
   "source": [
    "by_area_range = by_area_range.unstack().fillna(0)\n",
    "by_area_range\n"
   ]
  },
  {
   "cell_type": "code",
   "execution_count": 21,
   "metadata": {},
   "outputs": [
    {
     "data": {
      "image/png": "[encoded data removed]",
      "text/plain": [
       "<Figure size 720x504 with 1 Axes>"
      ]
     },
     "metadata": {
      "needs_background": "light"
     },
     "output_type": "display_data"
    }
   ],
   "source": [
    "# plot to show goal success rate by area of shot and range of shot\n",
    "ax = (by_area_range*100.0).plot(\n",
    "kind='bar',\n",
    "figsize=(10, 7),\n",
    "grid=True\n",
    ")\n",
    "ax.set_ylabel('')\n",
    "plt.show()"
   ]
  },
  {
   "cell_type": "code",
   "execution_count": 22,
   "metadata": {},
   "outputs": [
    {
     "data": {
      "text/html": [
       "<div>\n",
       "<style scoped>\n",
       "    .dataframe tbody tr th:only-of-type {\n",
       "        vertical-align: middle;\n",
       "    }\n",
       "\n",
       "    .dataframe tbody tr th {\n",
       "        vertical-align: top;\n",
       "    }\n",
       "\n",
       "    .dataframe thead th {\n",
       "        text-align: right;\n",
       "    }\n",
       "</style>\n",
       "<table border=\"1\" class=\"dataframe\">\n",
       "  <thead>\n",
       "    <tr style=\"text-align: right;\">\n",
       "      <th></th>\n",
       "      <th>match_event_id</th>\n",
       "      <th>location_x</th>\n",
       "      <th>location_y</th>\n",
       "      <th>remaining_min</th>\n",
       "      <th>power_of_shot</th>\n",
       "      <th>knockout_match</th>\n",
       "      <th>remaining_sec</th>\n",
       "      <th>distance_of_shot</th>\n",
       "      <th>is_goal</th>\n",
       "      <th>shot_id_number</th>\n",
       "      <th>match_id</th>\n",
       "      <th>team_id</th>\n",
       "      <th>remaining_min.1</th>\n",
       "      <th>power_of_shot.1</th>\n",
       "      <th>knockout_match.1</th>\n",
       "      <th>remaining_sec.1</th>\n",
       "      <th>distance_of_shot.1</th>\n",
       "    </tr>\n",
       "  </thead>\n",
       "  <tbody>\n",
       "    <tr>\n",
       "      <th>count</th>\n",
       "      <td>29134.000000</td>\n",
       "      <td>29236.000000</td>\n",
       "      <td>29157.000000</td>\n",
       "      <td>29135.000000</td>\n",
       "      <td>29211.000000</td>\n",
       "      <td>29180.000000</td>\n",
       "      <td>29103.000000</td>\n",
       "      <td>29130.000000</td>\n",
       "      <td>24429.000000</td>\n",
       "      <td>29134.000000</td>\n",
       "      <td>3.069700e+04</td>\n",
       "      <td>3.069700e+04</td>\n",
       "      <td>29162.000000</td>\n",
       "      <td>29158.000000</td>\n",
       "      <td>29204.000000</td>\n",
       "      <td>29158.000000</td>\n",
       "      <td>29129.000000</td>\n",
       "    </tr>\n",
       "    <tr>\n",
       "      <th>mean</th>\n",
       "      <td>249.576028</td>\n",
       "      <td>7.383876</td>\n",
       "      <td>91.126933</td>\n",
       "      <td>4.883233</td>\n",
       "      <td>2.519359</td>\n",
       "      <td>0.145956</td>\n",
       "      <td>28.329382</td>\n",
       "      <td>33.448884</td>\n",
       "      <td>0.445331</td>\n",
       "      <td>15368.581039</td>\n",
       "      <td>2.476407e+07</td>\n",
       "      <td>1.610613e+09</td>\n",
       "      <td>18.204615</td>\n",
       "      <td>15.994109</td>\n",
       "      <td>16.599402</td>\n",
       "      <td>39.027303</td>\n",
       "      <td>38.801852</td>\n",
       "    </tr>\n",
       "    <tr>\n",
       "      <th>std</th>\n",
       "      <td>150.186019</td>\n",
       "      <td>110.263049</td>\n",
       "      <td>87.676395</td>\n",
       "      <td>3.452533</td>\n",
       "      <td>1.153976</td>\n",
       "      <td>0.353068</td>\n",
       "      <td>17.470663</td>\n",
       "      <td>9.369656</td>\n",
       "      <td>0.497013</td>\n",
       "      <td>8866.520772</td>\n",
       "      <td>7.755175e+06</td>\n",
       "      <td>0.000000e+00</td>\n",
       "      <td>29.416973</td>\n",
       "      <td>29.676815</td>\n",
       "      <td>35.172016</td>\n",
       "      <td>29.835284</td>\n",
       "      <td>18.787711</td>\n",
       "    </tr>\n",
       "    <tr>\n",
       "      <th>min</th>\n",
       "      <td>2.000000</td>\n",
       "      <td>-250.000000</td>\n",
       "      <td>-44.000000</td>\n",
       "      <td>0.000000</td>\n",
       "      <td>1.000000</td>\n",
       "      <td>0.000000</td>\n",
       "      <td>0.000000</td>\n",
       "      <td>20.000000</td>\n",
       "      <td>0.000000</td>\n",
       "      <td>1.000000</td>\n",
       "      <td>2.000001e+07</td>\n",
       "      <td>1.610613e+09</td>\n",
       "      <td>0.000000</td>\n",
       "      <td>1.000000</td>\n",
       "      <td>0.000000</td>\n",
       "      <td>0.000000</td>\n",
       "      <td>9.400000</td>\n",
       "    </tr>\n",
       "    <tr>\n",
       "      <th>25%</th>\n",
       "      <td>111.000000</td>\n",
       "      <td>-68.000000</td>\n",
       "      <td>4.000000</td>\n",
       "      <td>2.000000</td>\n",
       "      <td>1.000000</td>\n",
       "      <td>0.000000</td>\n",
       "      <td>13.000000</td>\n",
       "      <td>25.000000</td>\n",
       "      <td>0.000000</td>\n",
       "      <td>7693.250000</td>\n",
       "      <td>2.050008e+07</td>\n",
       "      <td>1.610613e+09</td>\n",
       "      <td>3.000000</td>\n",
       "      <td>2.000000</td>\n",
       "      <td>0.000000</td>\n",
       "      <td>17.000000</td>\n",
       "      <td>26.000000</td>\n",
       "    </tr>\n",
       "    <tr>\n",
       "      <th>50%</th>\n",
       "      <td>254.000000</td>\n",
       "      <td>0.000000</td>\n",
       "      <td>74.000000</td>\n",
       "      <td>5.000000</td>\n",
       "      <td>3.000000</td>\n",
       "      <td>0.000000</td>\n",
       "      <td>28.000000</td>\n",
       "      <td>35.000000</td>\n",
       "      <td>0.000000</td>\n",
       "      <td>15378.500000</td>\n",
       "      <td>2.090035e+07</td>\n",
       "      <td>1.610613e+09</td>\n",
       "      <td>6.000000</td>\n",
       "      <td>3.000000</td>\n",
       "      <td>0.000000</td>\n",
       "      <td>35.000000</td>\n",
       "      <td>36.000000</td>\n",
       "    </tr>\n",
       "    <tr>\n",
       "      <th>75%</th>\n",
       "      <td>369.000000</td>\n",
       "      <td>95.000000</td>\n",
       "      <td>160.000000</td>\n",
       "      <td>8.000000</td>\n",
       "      <td>3.000000</td>\n",
       "      <td>0.000000</td>\n",
       "      <td>43.000000</td>\n",
       "      <td>41.000000</td>\n",
       "      <td>1.000000</td>\n",
       "      <td>23055.750000</td>\n",
       "      <td>2.960047e+07</td>\n",
       "      <td>1.610613e+09</td>\n",
       "      <td>11.000000</td>\n",
       "      <td>4.000000</td>\n",
       "      <td>1.000000</td>\n",
       "      <td>52.000000</td>\n",
       "      <td>44.000000</td>\n",
       "    </tr>\n",
       "    <tr>\n",
       "      <th>max</th>\n",
       "      <td>659.000000</td>\n",
       "      <td>248.000000</td>\n",
       "      <td>791.000000</td>\n",
       "      <td>11.000000</td>\n",
       "      <td>7.000000</td>\n",
       "      <td>1.000000</td>\n",
       "      <td>59.000000</td>\n",
       "      <td>99.000000</td>\n",
       "      <td>1.000000</td>\n",
       "      <td>30697.000000</td>\n",
       "      <td>4.990009e+07</td>\n",
       "      <td>1.610613e+09</td>\n",
       "      <td>128.761600</td>\n",
       "      <td>118.360000</td>\n",
       "      <td>141.352320</td>\n",
       "      <td>144.785600</td>\n",
       "      <td>115.728000</td>\n",
       "    </tr>\n",
       "  </tbody>\n",
       "</table>\n",
       "</div>"
      ],
      "text/plain": [
       "       match_event_id    location_x    location_y  remaining_min  \\\n",
       "count    29134.000000  29236.000000  29157.000000   29135.000000   \n",
       "mean       249.576028      7.383876     91.126933       4.883233   \n",
       "std        150.186019    110.263049     87.676395       3.452533   \n",
       "min          2.000000   -250.000000    -44.000000       0.000000   \n",
       "25%        111.000000    -68.000000      4.000000       2.000000   \n",
       "50%        254.000000      0.000000     74.000000       5.000000   \n",
       "75%        369.000000     95.000000    160.000000       8.000000   \n",
       "max        659.000000    248.000000    791.000000      11.000000   \n",
       "\n",
       "       power_of_shot  knockout_match  remaining_sec  distance_of_shot  \\\n",
       "count   29211.000000    29180.000000   29103.000000      29130.000000   \n",
       "mean        2.519359        0.145956      28.329382         33.448884   \n",
       "std         1.153976        0.353068      17.470663          9.369656   \n",
       "min         1.000000        0.000000       0.000000         20.000000   \n",
       "25%         1.000000        0.000000      13.000000         25.000000   \n",
       "50%         3.000000        0.000000      28.000000         35.000000   \n",
       "75%         3.000000        0.000000      43.000000         41.000000   \n",
       "max         7.000000        1.000000      59.000000         99.000000   \n",
       "\n",
       "            is_goal  shot_id_number      match_id       team_id  \\\n",
       "count  24429.000000    29134.000000  3.069700e+04  3.069700e+04   \n",
       "mean       0.445331    15368.581039  2.476407e+07  1.610613e+09   \n",
       "std        0.497013     8866.520772  7.755175e+06  0.000000e+00   \n",
       "min        0.000000        1.000000  2.000001e+07  1.610613e+09   \n",
       "25%        0.000000     7693.250000  2.050008e+07  1.610613e+09   \n",
       "50%        0.000000    15378.500000  2.090035e+07  1.610613e+09   \n",
       "75%        1.000000    23055.750000  2.960047e+07  1.610613e+09   \n",
       "max        1.000000    30697.000000  4.990009e+07  1.610613e+09   \n",
       "\n",
       "       remaining_min.1  power_of_shot.1  knockout_match.1  remaining_sec.1  \\\n",
       "count     29162.000000     29158.000000      29204.000000     29158.000000   \n",
       "mean         18.204615        15.994109         16.599402        39.027303   \n",
       "std          29.416973        29.676815         35.172016        29.835284   \n",
       "min           0.000000         1.000000          0.000000         0.000000   \n",
       "25%           3.000000         2.000000          0.000000        17.000000   \n",
       "50%           6.000000         3.000000          0.000000        35.000000   \n",
       "75%          11.000000         4.000000          1.000000        52.000000   \n",
       "max         128.761600       118.360000        141.352320       144.785600   \n",
       "\n",
       "       distance_of_shot.1  \n",
       "count        29129.000000  \n",
       "mean            38.801852  \n",
       "std             18.787711  \n",
       "min              9.400000  \n",
       "25%             26.000000  \n",
       "50%             36.000000  \n",
       "75%             44.000000  \n",
       "max            115.728000  "
      ]
     },
     "execution_count": 22,
     "metadata": {},
     "output_type": "execute_result"
    }
   ],
   "source": [
    "data.describe()"
   ]
  },
  {
   "cell_type": "code",
   "execution_count": 23,
   "metadata": {},
   "outputs": [
    {
     "name": "stdout",
     "output_type": "stream",
     "text": [
      "<class 'pandas.core.frame.DataFrame'>\n",
      "RangeIndex: 30697 entries, 0 to 30696\n",
      "Data columns (total 27 columns):\n",
      "match_event_id           29134 non-null float64\n",
      "location_x               29236 non-null float64\n",
      "location_y               29157 non-null float64\n",
      "remaining_min            29135 non-null float64\n",
      "power_of_shot            29211 non-null float64\n",
      "knockout_match           29180 non-null float64\n",
      "game_season              24835 non-null object\n",
      "remaining_sec            29103 non-null float64\n",
      "distance_of_shot         29130 non-null float64\n",
      "is_goal                  24429 non-null float64\n",
      "area_of_shot             29195 non-null object\n",
      "shot_basics              29122 non-null object\n",
      "range_of_shot            29133 non-null object\n",
      "team_name                29162 non-null object\n",
      "date_of_game             29147 non-null object\n",
      "home/away                29200 non-null object\n",
      "shot_id_number           29134 non-null float64\n",
      "lat/lng                  29132 non-null object\n",
      "type_of_shot             15417 non-null object\n",
      "type_of_combined_shot    15280 non-null object\n",
      "match_id                 30697 non-null int64\n",
      "team_id                  30697 non-null int64\n",
      "remaining_min.1          29162 non-null float64\n",
      "power_of_shot.1          29158 non-null float64\n",
      "knockout_match.1         29204 non-null float64\n",
      "remaining_sec.1          29158 non-null float64\n",
      "distance_of_shot.1       29129 non-null float64\n",
      "dtypes: float64(15), int64(2), object(10)\n",
      "memory usage: 6.3+ MB\n"
     ]
    }
   ],
   "source": [
    "# printing the information about each feature\n",
    "data.info()"
   ]
  },
  {
   "cell_type": "code",
   "execution_count": 24,
   "metadata": {},
   "outputs": [],
   "source": [
    "data1=data.drop('team_id',axis=1)"
   ]
  },
  {
   "cell_type": "code",
   "execution_count": 25,
   "metadata": {},
   "outputs": [
    {
     "data": {
      "text/plain": [
       "Text(0.5, 1.0, 'Heatmap of dataset')"
      ]
     },
     "execution_count": 25,
     "metadata": {},
     "output_type": "execute_result"
    },
    {
     "data": {
      "image/png": "[encoded data removed]",
      "text/plain": [
       "<Figure size 1800x1152 with 2 Axes>"
      ]
     },
     "metadata": {
      "needs_background": "light"
     },
     "output_type": "display_data"
    }
   ],
   "source": [
    "# Heatmap to shows correlation among features\n",
    "# Below plot shows features match_event_id and match_id are co-related\n",
    "plt.rcParams['figure.figsize']=(25,16)\n",
    "hm=sns.heatmap(data1.corr(), annot = True, linewidths=.5, cmap='Blues')\n",
    "hm.set_title(label='Heatmap of dataset', fontsize=20)"
   ]
  },
  {
   "cell_type": "code",
   "execution_count": 26,
   "metadata": {},
   "outputs": [],
   "source": [
    "# dropping the correlated features\n",
    "data.drop(['match_event_id','match_id','team_id'],axis=1,inplace=True)"
   ]
  },
  {
   "cell_type": "code",
   "execution_count": 27,
   "metadata": {},
   "outputs": [
    {
     "data": {
      "text/plain": [
       "(30697, 24)"
      ]
     },
     "execution_count": 27,
     "metadata": {},
     "output_type": "execute_result"
    }
   ],
   "source": [
    "# no of rows and columns after feature removing co-related features\n",
    "data.shape"
   ]
  },
  {
   "cell_type": "code",
   "execution_count": 28,
   "metadata": {},
   "outputs": [
    {
     "data": {
      "text/plain": [
       "6268"
      ]
     },
     "execution_count": 28,
     "metadata": {},
     "output_type": "execute_result"
    }
   ],
   "source": [
    "data['is_goal'].isnull().sum()"
   ]
  },
  {
   "cell_type": "code",
   "execution_count": 29,
   "metadata": {},
   "outputs": [],
   "source": [
    "# dropping the rows for which is_goal is null\n",
    "data.drop(data[data['is_goal'].isnull()].index, inplace = True) "
   ]
  },
  {
   "cell_type": "code",
   "execution_count": 30,
   "metadata": {},
   "outputs": [
    {
     "data": {
      "text/plain": [
       "(24429, 24)"
      ]
     },
     "execution_count": 30,
     "metadata": {},
     "output_type": "execute_result"
    }
   ],
   "source": [
    "data.shape"
   ]
  },
  {
   "cell_type": "code",
   "execution_count": 31,
   "metadata": {},
   "outputs": [],
   "source": [
    "shot_id=data['shot_id_number']"
   ]
  },
  {
   "cell_type": "code",
   "execution_count": 32,
   "metadata": {},
   "outputs": [
    {
     "data": {
      "text/plain": [
       "Index(['location_x', 'location_y', 'remaining_min', 'power_of_shot',\n",
       "       'knockout_match', 'game_season', 'remaining_sec', 'distance_of_shot',\n",
       "       'is_goal', 'area_of_shot', 'shot_basics', 'range_of_shot', 'team_name',\n",
       "       'date_of_game', 'home/away', 'lat/lng', 'type_of_shot',\n",
       "       'type_of_combined_shot', 'remaining_min.1', 'power_of_shot.1',\n",
       "       'knockout_match.1', 'remaining_sec.1', 'distance_of_shot.1'],\n",
       "      dtype='object')"
      ]
     },
     "execution_count": 32,
     "metadata": {},
     "output_type": "execute_result"
    }
   ],
   "source": [
    "data.drop('shot_id_number',axis=1,inplace=True)\n",
    "data.columns"
   ]
  },
  {
   "cell_type": "markdown",
   "metadata": {},
   "source": [
    "### Data cleaning"
   ]
  },
  {
   "cell_type": "code",
   "execution_count": 33,
   "metadata": {},
   "outputs": [],
   "source": [
    "# changing the datatype of features\n",
    "DataVars = data.columns\n",
    "data_types = {Var: data[Var].dtype for Var in DataVars}"
   ]
  },
  {
   "cell_type": "code",
   "execution_count": 34,
   "metadata": {},
   "outputs": [
    {
     "data": {
      "text/plain": [
       "{'location_x': dtype('float64'),\n",
       " 'location_y': dtype('float64'),\n",
       " 'remaining_min': dtype('float64'),\n",
       " 'power_of_shot': dtype('float64'),\n",
       " 'knockout_match': dtype('float64'),\n",
       " 'game_season': dtype('O'),\n",
       " 'remaining_sec': dtype('float64'),\n",
       " 'distance_of_shot': dtype('float64'),\n",
       " 'is_goal': dtype('float64'),\n",
       " 'area_of_shot': dtype('O'),\n",
       " 'shot_basics': dtype('O'),\n",
       " 'range_of_shot': dtype('O'),\n",
       " 'team_name': dtype('O'),\n",
       " 'date_of_game': dtype('O'),\n",
       " 'home/away': dtype('O'),\n",
       " 'lat/lng': dtype('O'),\n",
       " 'type_of_shot': dtype('O'),\n",
       " 'type_of_combined_shot': dtype('O'),\n",
       " 'remaining_min.1': dtype('float64'),\n",
       " 'power_of_shot.1': dtype('float64'),\n",
       " 'knockout_match.1': dtype('float64'),\n",
       " 'remaining_sec.1': dtype('float64'),\n",
       " 'distance_of_shot.1': dtype('float64')}"
      ]
     },
     "execution_count": 34,
     "metadata": {},
     "output_type": "execute_result"
    }
   ],
   "source": [
    "data_types"
   ]
  },
  {
   "cell_type": "code",
   "execution_count": 35,
   "metadata": {},
   "outputs": [],
   "source": [
    "# Converting the object type features into category\n",
    "for Var in DataVars:\n",
    "    if data_types[Var] == int:\n",
    "        x = data[Var].astype(float)\n",
    "        data.loc[:, Var] = x\n",
    "        data_types[Var] = x.dtype\n",
    "    elif data_types[Var] != float:\n",
    "        x = data[Var].astype('category')\n",
    "        data.loc[:, Var] = x\n",
    "        data_types[Var] = x.dtype"
   ]
  },
  {
   "cell_type": "code",
   "execution_count": 36,
   "metadata": {},
   "outputs": [
    {
     "name": "stdout",
     "output_type": "stream",
     "text": [
      "<class 'pandas.core.frame.DataFrame'>\n",
      "Int64Index: 24429 entries, 1 to 30696\n",
      "Data columns (total 23 columns):\n",
      "location_x               23273 non-null float64\n",
      "location_y               23184 non-null float64\n",
      "remaining_min            23185 non-null float64\n",
      "power_of_shot            23229 non-null float64\n",
      "knockout_match           23217 non-null float64\n",
      "game_season              19797 non-null category\n",
      "remaining_sec            23179 non-null float64\n",
      "distance_of_shot         23172 non-null float64\n",
      "is_goal                  24429 non-null float64\n",
      "area_of_shot             23247 non-null category\n",
      "shot_basics              23146 non-null category\n",
      "range_of_shot            23181 non-null category\n",
      "team_name                23217 non-null category\n",
      "date_of_game             23192 non-null category\n",
      "home/away                23215 non-null category\n",
      "lat/lng                  23182 non-null category\n",
      "type_of_shot             12293 non-null category\n",
      "type_of_combined_shot    12136 non-null category\n",
      "remaining_min.1          23220 non-null float64\n",
      "power_of_shot.1          23221 non-null float64\n",
      "knockout_match.1         23215 non-null float64\n",
      "remaining_sec.1          23229 non-null float64\n",
      "distance_of_shot.1       23185 non-null float64\n",
      "dtypes: category(10), float64(13)\n",
      "memory usage: 2.9 MB\n"
     ]
    }
   ],
   "source": [
    "data.info()"
   ]
  },
  {
   "cell_type": "code",
   "execution_count": 37,
   "metadata": {},
   "outputs": [],
   "source": [
    "# storing all the float datatype features\n",
    "float_DataVars = [Var for Var in DataVars if data_types[Var] == float]"
   ]
  },
  {
   "cell_type": "code",
   "execution_count": 38,
   "metadata": {},
   "outputs": [],
   "source": [
    "# Filling the missing values of float features with mean\n",
    "float_x_means = data.mean()\n",
    "\n",
    "for Var in float_DataVars:\n",
    "    x = data[Var]\n",
    "    meancol=data[Var].median()\n",
    "    isThereMissing = x.isnull()\n",
    "    if isThereMissing.sum() > 0:\n",
    "        data.loc[isThereMissing.tolist(), Var] = meancol"
   ]
  },
  {
   "cell_type": "code",
   "execution_count": 39,
   "metadata": {},
   "outputs": [],
   "source": [
    "# storing all the categpry features\n",
    "DataVars = data.columns\n",
    "\n",
    "categorical_DataVars = [Var for Var in DataVars if data_types[Var] != float]"
   ]
  },
  {
   "cell_type": "code",
   "execution_count": 40,
   "metadata": {},
   "outputs": [
    {
     "data": {
      "text/plain": [
       "['game_season',\n",
       " 'area_of_shot',\n",
       " 'shot_basics',\n",
       " 'range_of_shot',\n",
       " 'team_name',\n",
       " 'date_of_game',\n",
       " 'home/away',\n",
       " 'lat/lng',\n",
       " 'type_of_shot',\n",
       " 'type_of_combined_shot']"
      ]
     },
     "execution_count": 40,
     "metadata": {},
     "output_type": "execute_result"
    }
   ],
   "source": [
    "categorical_DataVars"
   ]
  },
  {
   "cell_type": "code",
   "execution_count": 41,
   "metadata": {},
   "outputs": [
    {
     "data": {
      "text/plain": [
       "game_season                20\n",
       "area_of_shot                6\n",
       "shot_basics                 7\n",
       "range_of_shot               5\n",
       "team_name                   1\n",
       "date_of_game             1557\n",
       "home/away                  74\n",
       "lat/lng                    38\n",
       "type_of_shot               57\n",
       "type_of_combined_shot       6\n",
       "dtype: int64"
      ]
     },
     "execution_count": 41,
     "metadata": {},
     "output_type": "execute_result"
    }
   ],
   "source": [
    "categorical_levels = data[categorical_DataVars].apply(lambda col: len(col.cat.categories))\n",
    "categorical_levels "
   ]
  },
  {
   "cell_type": "code",
   "execution_count": 42,
   "metadata": {},
   "outputs": [
    {
     "data": {
      "text/plain": [
       "Index(['game_season', 'area_of_shot', 'shot_basics', 'range_of_shot',\n",
       "       'date_of_game', 'home/away', 'lat/lng', 'type_of_shot',\n",
       "       'type_of_combined_shot'],\n",
       "      dtype='object')"
      ]
     },
     "execution_count": 42,
     "metadata": {},
     "output_type": "execute_result"
    }
   ],
   "source": [
    "categorical_x_var_names = categorical_levels[categorical_levels > 1].index\n",
    "categorical_x_var_names"
   ]
  },
  {
   "cell_type": "code",
   "execution_count": 43,
   "metadata": {},
   "outputs": [],
   "source": [
    "def replaceInfrequentLevels(data, val=0.015):\n",
    "    collapsed_categories = {}\n",
    "    for categorical_x_var_name in categorical_x_var_names:\n",
    "        x = data[categorical_x_var_name].copy()\n",
    "        for category in x.cat.categories:\n",
    "            matching_rows_yesno = x == category\n",
    "            if matching_rows_yesno.sum() < val * data.shape[0]:\n",
    "                if categorical_x_var_name in collapsed_categories:\n",
    "                    collapsed_categories[categorical_x_var_name].append(category)\n",
    "                else:\n",
    "                    collapsed_categories[categorical_x_var_name] = [category]\n",
    "                if 'OTHER' not in data[categorical_x_var_name].cat.categories:\n",
    "                    data[categorical_x_var_name].cat.add_categories('OTHER', inplace=True)\n",
    "                data.loc[matching_rows_yesno, categorical_x_var_name] = 'OTHER'\n",
    "                data[categorical_x_var_name].cat.remove_categories(category, inplace=True)\n",
    "    return data  "
   ]
  },
  {
   "cell_type": "code",
   "execution_count": 44,
   "metadata": {},
   "outputs": [],
   "source": [
    "data = replaceInfrequentLevels(data)"
   ]
  },
  {
   "cell_type": "code",
   "execution_count": 45,
   "metadata": {},
   "outputs": [
    {
     "name": "stdout",
     "output_type": "stream",
     "text": [
      "Number of unique values within categorical features after preprocessing:\n"
     ]
    },
    {
     "data": {
      "text/plain": [
       "game_season              19\n",
       "area_of_shot              6\n",
       "shot_basics               5\n",
       "range_of_shot             5\n",
       "date_of_game              1\n",
       "home/away                26\n",
       "lat/lng                  15\n",
       "type_of_shot              7\n",
       "type_of_combined_shot     4\n",
       "dtype: int64"
      ]
     },
     "execution_count": 45,
     "metadata": {},
     "output_type": "execute_result"
    }
   ],
   "source": [
    "categorical_x_nb_levels = data[categorical_x_var_names].apply(lambda col: len(col.cat.categories))\n",
    "print(\"Number of unique values within categorical features after preprocessing:\")\n",
    "categorical_x_nb_levels"
   ]
  },
  {
   "cell_type": "code",
   "execution_count": 46,
   "metadata": {},
   "outputs": [
    {
     "name": "stdout",
     "output_type": "stream",
     "text": [
      "game_season              0.189611\n",
      "area_of_shot             0.048385\n",
      "shot_basics              0.052520\n",
      "range_of_shot            0.051087\n",
      "date_of_game             0.050637\n",
      "home/away                0.049695\n",
      "lat/lng                  0.051046\n",
      "type_of_shot             0.496787\n",
      "type_of_combined_shot    0.503213\n",
      "dtype: float64\n"
     ]
    }
   ],
   "source": [
    "print(data[categorical_x_var_names].isnull().sum()/len(data))"
   ]
  },
  {
   "cell_type": "code",
   "execution_count": 47,
   "metadata": {},
   "outputs": [],
   "source": [
    "for categorical_var_name in categorical_x_var_names:\n",
    "    data[categorical_var_name].cat.add_categories(\"unknown_\"+categorical_var_name, inplace=True)\n",
    "    data[categorical_var_name].fillna(\"unknown_\"+categorical_var_name, inplace=True)"
   ]
  },
  {
   "cell_type": "code",
   "execution_count": 48,
   "metadata": {},
   "outputs": [
    {
     "name": "stdout",
     "output_type": "stream",
     "text": [
      "Percentage of missing values per Categorical feature after preprocessing:\n",
      "game_season              0.0\n",
      "area_of_shot             0.0\n",
      "shot_basics              0.0\n",
      "range_of_shot            0.0\n",
      "date_of_game             0.0\n",
      "home/away                0.0\n",
      "lat/lng                  0.0\n",
      "type_of_shot             0.0\n",
      "type_of_combined_shot    0.0\n",
      "dtype: float64\n"
     ]
    }
   ],
   "source": [
    "print(\"Percentage of missing values per Categorical feature after preprocessing:\")\n",
    "print(data[categorical_x_var_names].isnull().sum()/len(data))"
   ]
  },
  {
   "cell_type": "code",
   "execution_count": 49,
   "metadata": {},
   "outputs": [
    {
     "data": {
      "text/plain": [
       "['game_season',\n",
       " 'area_of_shot',\n",
       " 'shot_basics',\n",
       " 'range_of_shot',\n",
       " 'team_name',\n",
       " 'date_of_game',\n",
       " 'home/away',\n",
       " 'lat/lng',\n",
       " 'type_of_shot',\n",
       " 'type_of_combined_shot']"
      ]
     },
     "execution_count": 49,
     "metadata": {},
     "output_type": "execute_result"
    }
   ],
   "source": [
    "lst=[]\n",
    "for i in data.columns:\n",
    "    if data[i].dtypes!=float:\n",
    "        lst.append(i)\n",
    "lst"
   ]
  },
  {
   "cell_type": "code",
   "execution_count": 50,
   "metadata": {},
   "outputs": [],
   "source": [
    "# performing one hot encoding\n",
    "data_1 = pd.get_dummies(data, columns=['game_season',\n",
    " 'area_of_shot',\n",
    " 'shot_basics',\n",
    " 'range_of_shot',\n",
    " 'team_name',\n",
    " 'date_of_game',\n",
    " 'home/away',\n",
    " 'lat/lng',\n",
    " 'type_of_shot',\n",
    " 'type_of_combined_shot'])"
   ]
  },
  {
   "cell_type": "code",
   "execution_count": 51,
   "metadata": {},
   "outputs": [
    {
     "data": {
      "text/html": [
       "<div>\n",
       "<style scoped>\n",
       "    .dataframe tbody tr th:only-of-type {\n",
       "        vertical-align: middle;\n",
       "    }\n",
       "\n",
       "    .dataframe tbody tr th {\n",
       "        vertical-align: top;\n",
       "    }\n",
       "\n",
       "    .dataframe thead th {\n",
       "        text-align: right;\n",
       "    }\n",
       "</style>\n",
       "<table border=\"1\" class=\"dataframe\">\n",
       "  <thead>\n",
       "    <tr style=\"text-align: right;\">\n",
       "      <th></th>\n",
       "      <th>location_x</th>\n",
       "      <th>location_y</th>\n",
       "      <th>remaining_min</th>\n",
       "      <th>power_of_shot</th>\n",
       "      <th>knockout_match</th>\n",
       "      <th>remaining_sec</th>\n",
       "      <th>distance_of_shot</th>\n",
       "      <th>is_goal</th>\n",
       "      <th>remaining_min.1</th>\n",
       "      <th>power_of_shot.1</th>\n",
       "      <th>...</th>\n",
       "      <th>type_of_shot_shot - 39</th>\n",
       "      <th>type_of_shot_shot - 4</th>\n",
       "      <th>type_of_shot_shot - 44</th>\n",
       "      <th>type_of_shot_OTHER</th>\n",
       "      <th>type_of_shot_unknown_type_of_shot</th>\n",
       "      <th>type_of_combined_shot_shot - 1</th>\n",
       "      <th>type_of_combined_shot_shot - 3</th>\n",
       "      <th>type_of_combined_shot_shot - 4</th>\n",
       "      <th>type_of_combined_shot_OTHER</th>\n",
       "      <th>type_of_combined_shot_unknown_type_of_combined_shot</th>\n",
       "    </tr>\n",
       "  </thead>\n",
       "  <tbody>\n",
       "    <tr>\n",
       "      <th>1</th>\n",
       "      <td>-157.0</td>\n",
       "      <td>0.0</td>\n",
       "      <td>10.0</td>\n",
       "      <td>1.0</td>\n",
       "      <td>0.0</td>\n",
       "      <td>22.0</td>\n",
       "      <td>35.0</td>\n",
       "      <td>0.0</td>\n",
       "      <td>10.00</td>\n",
       "      <td>1.0</td>\n",
       "      <td>...</td>\n",
       "      <td>0</td>\n",
       "      <td>0</td>\n",
       "      <td>0</td>\n",
       "      <td>1</td>\n",
       "      <td>0</td>\n",
       "      <td>0</td>\n",
       "      <td>0</td>\n",
       "      <td>0</td>\n",
       "      <td>0</td>\n",
       "      <td>1</td>\n",
       "    </tr>\n",
       "    <tr>\n",
       "      <th>2</th>\n",
       "      <td>-101.0</td>\n",
       "      <td>135.0</td>\n",
       "      <td>7.0</td>\n",
       "      <td>1.0</td>\n",
       "      <td>0.0</td>\n",
       "      <td>45.0</td>\n",
       "      <td>36.0</td>\n",
       "      <td>1.0</td>\n",
       "      <td>92.64</td>\n",
       "      <td>1.0</td>\n",
       "      <td>...</td>\n",
       "      <td>0</td>\n",
       "      <td>0</td>\n",
       "      <td>0</td>\n",
       "      <td>1</td>\n",
       "      <td>0</td>\n",
       "      <td>0</td>\n",
       "      <td>0</td>\n",
       "      <td>0</td>\n",
       "      <td>0</td>\n",
       "      <td>1</td>\n",
       "    </tr>\n",
       "    <tr>\n",
       "      <th>3</th>\n",
       "      <td>138.0</td>\n",
       "      <td>175.0</td>\n",
       "      <td>6.0</td>\n",
       "      <td>1.0</td>\n",
       "      <td>0.0</td>\n",
       "      <td>52.0</td>\n",
       "      <td>42.0</td>\n",
       "      <td>0.0</td>\n",
       "      <td>6.00</td>\n",
       "      <td>1.0</td>\n",
       "      <td>...</td>\n",
       "      <td>0</td>\n",
       "      <td>0</td>\n",
       "      <td>0</td>\n",
       "      <td>0</td>\n",
       "      <td>1</td>\n",
       "      <td>0</td>\n",
       "      <td>1</td>\n",
       "      <td>0</td>\n",
       "      <td>0</td>\n",
       "      <td>0</td>\n",
       "    </tr>\n",
       "    <tr>\n",
       "      <th>4</th>\n",
       "      <td>0.0</td>\n",
       "      <td>0.0</td>\n",
       "      <td>5.0</td>\n",
       "      <td>2.0</td>\n",
       "      <td>0.0</td>\n",
       "      <td>19.0</td>\n",
       "      <td>20.0</td>\n",
       "      <td>1.0</td>\n",
       "      <td>42.64</td>\n",
       "      <td>2.0</td>\n",
       "      <td>...</td>\n",
       "      <td>0</td>\n",
       "      <td>0</td>\n",
       "      <td>0</td>\n",
       "      <td>0</td>\n",
       "      <td>1</td>\n",
       "      <td>1</td>\n",
       "      <td>0</td>\n",
       "      <td>0</td>\n",
       "      <td>0</td>\n",
       "      <td>0</td>\n",
       "    </tr>\n",
       "    <tr>\n",
       "      <th>5</th>\n",
       "      <td>-145.0</td>\n",
       "      <td>-11.0</td>\n",
       "      <td>9.0</td>\n",
       "      <td>3.0</td>\n",
       "      <td>0.0</td>\n",
       "      <td>32.0</td>\n",
       "      <td>34.0</td>\n",
       "      <td>0.0</td>\n",
       "      <td>9.00</td>\n",
       "      <td>3.0</td>\n",
       "      <td>...</td>\n",
       "      <td>0</td>\n",
       "      <td>0</td>\n",
       "      <td>0</td>\n",
       "      <td>1</td>\n",
       "      <td>0</td>\n",
       "      <td>0</td>\n",
       "      <td>0</td>\n",
       "      <td>0</td>\n",
       "      <td>0</td>\n",
       "      <td>1</td>\n",
       "    </tr>\n",
       "  </tbody>\n",
       "</table>\n",
       "<p>5 rows × 111 columns</p>\n",
       "</div>"
      ],
      "text/plain": [
       "   location_x  location_y  remaining_min  power_of_shot  knockout_match  \\\n",
       "1      -157.0         0.0           10.0            1.0             0.0   \n",
       "2      -101.0       135.0            7.0            1.0             0.0   \n",
       "3       138.0       175.0            6.0            1.0             0.0   \n",
       "4         0.0         0.0            5.0            2.0             0.0   \n",
       "5      -145.0       -11.0            9.0            3.0             0.0   \n",
       "\n",
       "   remaining_sec  distance_of_shot  is_goal  remaining_min.1  power_of_shot.1  \\\n",
       "1           22.0              35.0      0.0            10.00              1.0   \n",
       "2           45.0              36.0      1.0            92.64              1.0   \n",
       "3           52.0              42.0      0.0             6.00              1.0   \n",
       "4           19.0              20.0      1.0            42.64              2.0   \n",
       "5           32.0              34.0      0.0             9.00              3.0   \n",
       "\n",
       "   ...  type_of_shot_shot - 39  type_of_shot_shot - 4  type_of_shot_shot - 44  \\\n",
       "1  ...                       0                      0                       0   \n",
       "2  ...                       0                      0                       0   \n",
       "3  ...                       0                      0                       0   \n",
       "4  ...                       0                      0                       0   \n",
       "5  ...                       0                      0                       0   \n",
       "\n",
       "   type_of_shot_OTHER  type_of_shot_unknown_type_of_shot  \\\n",
       "1                   1                                  0   \n",
       "2                   1                                  0   \n",
       "3                   0                                  1   \n",
       "4                   0                                  1   \n",
       "5                   1                                  0   \n",
       "\n",
       "   type_of_combined_shot_shot - 1  type_of_combined_shot_shot - 3  \\\n",
       "1                               0                               0   \n",
       "2                               0                               0   \n",
       "3                               0                               1   \n",
       "4                               1                               0   \n",
       "5                               0                               0   \n",
       "\n",
       "   type_of_combined_shot_shot - 4  type_of_combined_shot_OTHER  \\\n",
       "1                               0                            0   \n",
       "2                               0                            0   \n",
       "3                               0                            0   \n",
       "4                               0                            0   \n",
       "5                               0                            0   \n",
       "\n",
       "   type_of_combined_shot_unknown_type_of_combined_shot  \n",
       "1                                                  1    \n",
       "2                                                  1    \n",
       "3                                                  0    \n",
       "4                                                  0    \n",
       "5                                                  1    \n",
       "\n",
       "[5 rows x 111 columns]"
      ]
     },
     "execution_count": 51,
     "metadata": {},
     "output_type": "execute_result"
    }
   ],
   "source": [
    "data_1.head()"
   ]
  },
  {
   "cell_type": "code",
   "execution_count": 52,
   "metadata": {},
   "outputs": [],
   "source": [
    "data_1['shot_id_number']=shot_id"
   ]
  },
  {
   "cell_type": "code",
   "execution_count": 53,
   "metadata": {},
   "outputs": [],
   "source": [
    "data_1.drop(data_1[data_1['shot_id_number'].isnull()].index, inplace = True) "
   ]
  },
  {
   "cell_type": "code",
   "execution_count": 54,
   "metadata": {},
   "outputs": [],
   "source": [
    "data_2=data_1.copy()"
   ]
  },
  {
   "cell_type": "code",
   "execution_count": 55,
   "metadata": {},
   "outputs": [],
   "source": [
    "y=data_1['is_goal']\n",
    "X=data_1.drop('is_goal',axis=1)"
   ]
  },
  {
   "cell_type": "code",
   "execution_count": 56,
   "metadata": {},
   "outputs": [
    {
     "data": {
      "text/html": [
       "<div>\n",
       "<style scoped>\n",
       "    .dataframe tbody tr th:only-of-type {\n",
       "        vertical-align: middle;\n",
       "    }\n",
       "\n",
       "    .dataframe tbody tr th {\n",
       "        vertical-align: top;\n",
       "    }\n",
       "\n",
       "    .dataframe thead th {\n",
       "        text-align: right;\n",
       "    }\n",
       "</style>\n",
       "<table border=\"1\" class=\"dataframe\">\n",
       "  <thead>\n",
       "    <tr style=\"text-align: right;\">\n",
       "      <th></th>\n",
       "      <th>location_x</th>\n",
       "      <th>location_y</th>\n",
       "      <th>remaining_min</th>\n",
       "      <th>power_of_shot</th>\n",
       "      <th>knockout_match</th>\n",
       "      <th>remaining_sec</th>\n",
       "      <th>distance_of_shot</th>\n",
       "      <th>remaining_min.1</th>\n",
       "      <th>power_of_shot.1</th>\n",
       "      <th>knockout_match.1</th>\n",
       "      <th>...</th>\n",
       "      <th>type_of_shot_shot - 4</th>\n",
       "      <th>type_of_shot_shot - 44</th>\n",
       "      <th>type_of_shot_OTHER</th>\n",
       "      <th>type_of_shot_unknown_type_of_shot</th>\n",
       "      <th>type_of_combined_shot_shot - 1</th>\n",
       "      <th>type_of_combined_shot_shot - 3</th>\n",
       "      <th>type_of_combined_shot_shot - 4</th>\n",
       "      <th>type_of_combined_shot_OTHER</th>\n",
       "      <th>type_of_combined_shot_unknown_type_of_combined_shot</th>\n",
       "      <th>shot_id_number</th>\n",
       "    </tr>\n",
       "  </thead>\n",
       "  <tbody>\n",
       "    <tr>\n",
       "      <th>1</th>\n",
       "      <td>-157.0</td>\n",
       "      <td>0.0</td>\n",
       "      <td>10.0</td>\n",
       "      <td>1.0</td>\n",
       "      <td>0.0</td>\n",
       "      <td>22.0</td>\n",
       "      <td>35.0</td>\n",
       "      <td>10.00</td>\n",
       "      <td>1.0</td>\n",
       "      <td>28.800</td>\n",
       "      <td>...</td>\n",
       "      <td>0</td>\n",
       "      <td>0</td>\n",
       "      <td>1</td>\n",
       "      <td>0</td>\n",
       "      <td>0</td>\n",
       "      <td>0</td>\n",
       "      <td>0</td>\n",
       "      <td>0</td>\n",
       "      <td>1</td>\n",
       "      <td>2.0</td>\n",
       "    </tr>\n",
       "    <tr>\n",
       "      <th>2</th>\n",
       "      <td>-101.0</td>\n",
       "      <td>135.0</td>\n",
       "      <td>7.0</td>\n",
       "      <td>1.0</td>\n",
       "      <td>0.0</td>\n",
       "      <td>45.0</td>\n",
       "      <td>36.0</td>\n",
       "      <td>92.64</td>\n",
       "      <td>1.0</td>\n",
       "      <td>0.000</td>\n",
       "      <td>...</td>\n",
       "      <td>0</td>\n",
       "      <td>0</td>\n",
       "      <td>1</td>\n",
       "      <td>0</td>\n",
       "      <td>0</td>\n",
       "      <td>0</td>\n",
       "      <td>0</td>\n",
       "      <td>0</td>\n",
       "      <td>1</td>\n",
       "      <td>3.0</td>\n",
       "    </tr>\n",
       "    <tr>\n",
       "      <th>3</th>\n",
       "      <td>138.0</td>\n",
       "      <td>175.0</td>\n",
       "      <td>6.0</td>\n",
       "      <td>1.0</td>\n",
       "      <td>0.0</td>\n",
       "      <td>52.0</td>\n",
       "      <td>42.0</td>\n",
       "      <td>6.00</td>\n",
       "      <td>1.0</td>\n",
       "      <td>122.608</td>\n",
       "      <td>...</td>\n",
       "      <td>0</td>\n",
       "      <td>0</td>\n",
       "      <td>0</td>\n",
       "      <td>1</td>\n",
       "      <td>0</td>\n",
       "      <td>1</td>\n",
       "      <td>0</td>\n",
       "      <td>0</td>\n",
       "      <td>0</td>\n",
       "      <td>4.0</td>\n",
       "    </tr>\n",
       "    <tr>\n",
       "      <th>4</th>\n",
       "      <td>0.0</td>\n",
       "      <td>0.0</td>\n",
       "      <td>5.0</td>\n",
       "      <td>2.0</td>\n",
       "      <td>0.0</td>\n",
       "      <td>19.0</td>\n",
       "      <td>20.0</td>\n",
       "      <td>42.64</td>\n",
       "      <td>2.0</td>\n",
       "      <td>0.000</td>\n",
       "      <td>...</td>\n",
       "      <td>0</td>\n",
       "      <td>0</td>\n",
       "      <td>0</td>\n",
       "      <td>1</td>\n",
       "      <td>1</td>\n",
       "      <td>0</td>\n",
       "      <td>0</td>\n",
       "      <td>0</td>\n",
       "      <td>0</td>\n",
       "      <td>5.0</td>\n",
       "    </tr>\n",
       "    <tr>\n",
       "      <th>5</th>\n",
       "      <td>-145.0</td>\n",
       "      <td>-11.0</td>\n",
       "      <td>9.0</td>\n",
       "      <td>3.0</td>\n",
       "      <td>0.0</td>\n",
       "      <td>32.0</td>\n",
       "      <td>34.0</td>\n",
       "      <td>9.00</td>\n",
       "      <td>3.0</td>\n",
       "      <td>0.000</td>\n",
       "      <td>...</td>\n",
       "      <td>0</td>\n",
       "      <td>0</td>\n",
       "      <td>1</td>\n",
       "      <td>0</td>\n",
       "      <td>0</td>\n",
       "      <td>0</td>\n",
       "      <td>0</td>\n",
       "      <td>0</td>\n",
       "      <td>1</td>\n",
       "      <td>6.0</td>\n",
       "    </tr>\n",
       "  </tbody>\n",
       "</table>\n",
       "<p>5 rows × 111 columns</p>\n",
       "</div>"
      ],
      "text/plain": [
       "   location_x  location_y  remaining_min  power_of_shot  knockout_match  \\\n",
       "1      -157.0         0.0           10.0            1.0             0.0   \n",
       "2      -101.0       135.0            7.0            1.0             0.0   \n",
       "3       138.0       175.0            6.0            1.0             0.0   \n",
       "4         0.0         0.0            5.0            2.0             0.0   \n",
       "5      -145.0       -11.0            9.0            3.0             0.0   \n",
       "\n",
       "   remaining_sec  distance_of_shot  remaining_min.1  power_of_shot.1  \\\n",
       "1           22.0              35.0            10.00              1.0   \n",
       "2           45.0              36.0            92.64              1.0   \n",
       "3           52.0              42.0             6.00              1.0   \n",
       "4           19.0              20.0            42.64              2.0   \n",
       "5           32.0              34.0             9.00              3.0   \n",
       "\n",
       "   knockout_match.1  ...  type_of_shot_shot - 4  type_of_shot_shot - 44  \\\n",
       "1            28.800  ...                      0                       0   \n",
       "2             0.000  ...                      0                       0   \n",
       "3           122.608  ...                      0                       0   \n",
       "4             0.000  ...                      0                       0   \n",
       "5             0.000  ...                      0                       0   \n",
       "\n",
       "   type_of_shot_OTHER  type_of_shot_unknown_type_of_shot  \\\n",
       "1                   1                                  0   \n",
       "2                   1                                  0   \n",
       "3                   0                                  1   \n",
       "4                   0                                  1   \n",
       "5                   1                                  0   \n",
       "\n",
       "   type_of_combined_shot_shot - 1  type_of_combined_shot_shot - 3  \\\n",
       "1                               0                               0   \n",
       "2                               0                               0   \n",
       "3                               0                               1   \n",
       "4                               1                               0   \n",
       "5                               0                               0   \n",
       "\n",
       "   type_of_combined_shot_shot - 4  type_of_combined_shot_OTHER  \\\n",
       "1                               0                            0   \n",
       "2                               0                            0   \n",
       "3                               0                            0   \n",
       "4                               0                            0   \n",
       "5                               0                            0   \n",
       "\n",
       "   type_of_combined_shot_unknown_type_of_combined_shot  shot_id_number  \n",
       "1                                                  1               2.0  \n",
       "2                                                  1               3.0  \n",
       "3                                                  0               4.0  \n",
       "4                                                  0               5.0  \n",
       "5                                                  1               6.0  \n",
       "\n",
       "[5 rows x 111 columns]"
      ]
     },
     "execution_count": 56,
     "metadata": {},
     "output_type": "execute_result"
    }
   ],
   "source": [
    "X.head()"
   ]
  },
  {
   "cell_type": "code",
   "execution_count": 57,
   "metadata": {},
   "outputs": [],
   "source": [
    "# train test split with 80% train and 20% test\n",
    "X_train,X_test, y_train, y_test = train_test_split(X,y, stratify=y, test_size=0.2, random_state=42)"
   ]
  },
  {
   "cell_type": "code",
   "execution_count": 58,
   "metadata": {},
   "outputs": [
    {
     "name": "stderr",
     "output_type": "stream",
     "text": [
      "C:\\Users\\abc\\Anaconda3\\lib\\site-packages\\pandas\\core\\frame.py:3940: SettingWithCopyWarning: \n",
      "A value is trying to be set on a copy of a slice from a DataFrame\n",
      "\n",
      "See the caveats in the documentation: http://pandas.pydata.org/pandas-docs/stable/indexing.html#indexing-view-versus-copy\n",
      "  errors=errors)\n"
     ]
    }
   ],
   "source": [
    "shot_id_train=X_train['shot_id_number']\n",
    "X_train.drop('shot_id_number',axis=1,inplace=True)\n",
    "shot_id_test=X_test['shot_id_number']\n",
    "X_test.drop('shot_id_number',axis=1,inplace=True)"
   ]
  },
  {
   "cell_type": "code",
   "execution_count": 59,
   "metadata": {},
   "outputs": [],
   "source": [
    "# Standarize the features\n",
    "def standardize(train, test):\n",
    "\n",
    "\n",
    "    mean = np.mean(train, axis=0)\n",
    "    std = np.std(train, axis=0)+0.000001\n",
    "\n",
    "    X_train = (train - mean) / std\n",
    "    X_test = (test - mean) /std\n",
    "    return X_train, X_test"
   ]
  },
  {
   "cell_type": "code",
   "execution_count": 60,
   "metadata": {},
   "outputs": [],
   "source": [
    "X_train, X_test=standardize(X_train, X_test)"
   ]
  },
  {
   "cell_type": "code",
   "execution_count": 61,
   "metadata": {},
   "outputs": [
    {
     "data": {
      "text/plain": [
       "((18543, 110), (4636, 110), (18543,), (4636,))"
      ]
     },
     "execution_count": 61,
     "metadata": {},
     "output_type": "execute_result"
    }
   ],
   "source": [
    "X_train.shape, X_test.shape, y_train.shape, y_test.shape"
   ]
  },
  {
   "cell_type": "code",
   "execution_count": 62,
   "metadata": {},
   "outputs": [
    {
     "data": {
      "text/html": [
       "<div>\n",
       "<style scoped>\n",
       "    .dataframe tbody tr th:only-of-type {\n",
       "        vertical-align: middle;\n",
       "    }\n",
       "\n",
       "    .dataframe tbody tr th {\n",
       "        vertical-align: top;\n",
       "    }\n",
       "\n",
       "    .dataframe thead th {\n",
       "        text-align: right;\n",
       "    }\n",
       "</style>\n",
       "<table border=\"1\" class=\"dataframe\">\n",
       "  <thead>\n",
       "    <tr style=\"text-align: right;\">\n",
       "      <th></th>\n",
       "      <th>location_x</th>\n",
       "      <th>location_y</th>\n",
       "      <th>remaining_min</th>\n",
       "      <th>power_of_shot</th>\n",
       "      <th>knockout_match</th>\n",
       "      <th>remaining_sec</th>\n",
       "      <th>distance_of_shot</th>\n",
       "      <th>remaining_min.1</th>\n",
       "      <th>power_of_shot.1</th>\n",
       "      <th>knockout_match.1</th>\n",
       "      <th>...</th>\n",
       "      <th>type_of_shot_shot - 39</th>\n",
       "      <th>type_of_shot_shot - 4</th>\n",
       "      <th>type_of_shot_shot - 44</th>\n",
       "      <th>type_of_shot_OTHER</th>\n",
       "      <th>type_of_shot_unknown_type_of_shot</th>\n",
       "      <th>type_of_combined_shot_shot - 1</th>\n",
       "      <th>type_of_combined_shot_shot - 3</th>\n",
       "      <th>type_of_combined_shot_shot - 4</th>\n",
       "      <th>type_of_combined_shot_OTHER</th>\n",
       "      <th>type_of_combined_shot_unknown_type_of_combined_shot</th>\n",
       "    </tr>\n",
       "  </thead>\n",
       "  <tbody>\n",
       "    <tr>\n",
       "      <th>5197</th>\n",
       "      <td>0.344219</td>\n",
       "      <td>-1.119875</td>\n",
       "      <td>0.032621</td>\n",
       "      <td>-1.367008</td>\n",
       "      <td>-0.400755</td>\n",
       "      <td>1.165955</td>\n",
       "      <td>-1.047827</td>\n",
       "      <td>-0.434935</td>\n",
       "      <td>-0.494247</td>\n",
       "      <td>-0.456633</td>\n",
       "      <td>...</td>\n",
       "      <td>-0.218913</td>\n",
       "      <td>-0.191505</td>\n",
       "      <td>-0.142293</td>\n",
       "      <td>-0.681173</td>\n",
       "      <td>1.009154</td>\n",
       "      <td>-0.139104</td>\n",
       "      <td>1.278697</td>\n",
       "      <td>-0.311694</td>\n",
       "      <td>-0.092109</td>\n",
       "      <td>-1.009154</td>\n",
       "    </tr>\n",
       "    <tr>\n",
       "      <th>15650</th>\n",
       "      <td>1.065385</td>\n",
       "      <td>-1.038443</td>\n",
       "      <td>-0.856491</td>\n",
       "      <td>-1.367008</td>\n",
       "      <td>-0.400755</td>\n",
       "      <td>1.459216</td>\n",
       "      <td>-0.173061</td>\n",
       "      <td>-0.538852</td>\n",
       "      <td>-0.494247</td>\n",
       "      <td>-0.456633</td>\n",
       "      <td>...</td>\n",
       "      <td>-0.218913</td>\n",
       "      <td>-0.191505</td>\n",
       "      <td>-0.142293</td>\n",
       "      <td>-0.681173</td>\n",
       "      <td>-0.990925</td>\n",
       "      <td>-0.139104</td>\n",
       "      <td>-0.782043</td>\n",
       "      <td>-0.311694</td>\n",
       "      <td>-0.092109</td>\n",
       "      <td>0.990925</td>\n",
       "    </tr>\n",
       "    <tr>\n",
       "      <th>250</th>\n",
       "      <td>1.444459</td>\n",
       "      <td>-0.968644</td>\n",
       "      <td>0.032621</td>\n",
       "      <td>0.405424</td>\n",
       "      <td>-0.400755</td>\n",
       "      <td>-0.476310</td>\n",
       "      <td>0.264321</td>\n",
       "      <td>-0.400297</td>\n",
       "      <td>-0.425515</td>\n",
       "      <td>-0.456633</td>\n",
       "      <td>...</td>\n",
       "      <td>-0.218913</td>\n",
       "      <td>-0.191505</td>\n",
       "      <td>-0.142293</td>\n",
       "      <td>-0.681173</td>\n",
       "      <td>1.009154</td>\n",
       "      <td>-0.139104</td>\n",
       "      <td>1.278697</td>\n",
       "      <td>-0.311694</td>\n",
       "      <td>-0.092109</td>\n",
       "      <td>-1.009154</td>\n",
       "    </tr>\n",
       "    <tr>\n",
       "      <th>20173</th>\n",
       "      <td>-0.007118</td>\n",
       "      <td>-0.526583</td>\n",
       "      <td>-1.152861</td>\n",
       "      <td>0.405424</td>\n",
       "      <td>-0.400755</td>\n",
       "      <td>1.341912</td>\n",
       "      <td>-1.047827</td>\n",
       "      <td>3.258940</td>\n",
       "      <td>-0.425515</td>\n",
       "      <td>2.617093</td>\n",
       "      <td>...</td>\n",
       "      <td>-0.218913</td>\n",
       "      <td>-0.191505</td>\n",
       "      <td>-0.142293</td>\n",
       "      <td>-0.681173</td>\n",
       "      <td>-0.990925</td>\n",
       "      <td>-0.139104</td>\n",
       "      <td>-0.782043</td>\n",
       "      <td>-0.311694</td>\n",
       "      <td>-0.092109</td>\n",
       "      <td>0.990925</td>\n",
       "    </tr>\n",
       "    <tr>\n",
       "      <th>28535</th>\n",
       "      <td>-1.930225</td>\n",
       "      <td>-0.503317</td>\n",
       "      <td>-1.152861</td>\n",
       "      <td>1.291640</td>\n",
       "      <td>2.495273</td>\n",
       "      <td>-1.473399</td>\n",
       "      <td>0.701704</td>\n",
       "      <td>-0.573490</td>\n",
       "      <td>-0.391148</td>\n",
       "      <td>-0.427527</td>\n",
       "      <td>...</td>\n",
       "      <td>-0.218913</td>\n",
       "      <td>-0.191505</td>\n",
       "      <td>-0.142293</td>\n",
       "      <td>-0.681173</td>\n",
       "      <td>1.009154</td>\n",
       "      <td>-0.139104</td>\n",
       "      <td>1.278697</td>\n",
       "      <td>-0.311694</td>\n",
       "      <td>-0.092109</td>\n",
       "      <td>-1.009154</td>\n",
       "    </tr>\n",
       "  </tbody>\n",
       "</table>\n",
       "<p>5 rows × 110 columns</p>\n",
       "</div>"
      ],
      "text/plain": [
       "       location_x  location_y  remaining_min  power_of_shot  knockout_match  \\\n",
       "5197     0.344219   -1.119875       0.032621      -1.367008       -0.400755   \n",
       "15650    1.065385   -1.038443      -0.856491      -1.367008       -0.400755   \n",
       "250      1.444459   -0.968644       0.032621       0.405424       -0.400755   \n",
       "20173   -0.007118   -0.526583      -1.152861       0.405424       -0.400755   \n",
       "28535   -1.930225   -0.503317      -1.152861       1.291640        2.495273   \n",
       "\n",
       "       remaining_sec  distance_of_shot  remaining_min.1  power_of_shot.1  \\\n",
       "5197        1.165955         -1.047827        -0.434935        -0.494247   \n",
       "15650       1.459216         -0.173061        -0.538852        -0.494247   \n",
       "250        -0.476310          0.264321        -0.400297        -0.425515   \n",
       "20173       1.341912         -1.047827         3.258940        -0.425515   \n",
       "28535      -1.473399          0.701704        -0.573490        -0.391148   \n",
       "\n",
       "       knockout_match.1  ...  type_of_shot_shot - 39  type_of_shot_shot - 4  \\\n",
       "5197          -0.456633  ...               -0.218913              -0.191505   \n",
       "15650         -0.456633  ...               -0.218913              -0.191505   \n",
       "250           -0.456633  ...               -0.218913              -0.191505   \n",
       "20173          2.617093  ...               -0.218913              -0.191505   \n",
       "28535         -0.427527  ...               -0.218913              -0.191505   \n",
       "\n",
       "       type_of_shot_shot - 44  type_of_shot_OTHER  \\\n",
       "5197                -0.142293           -0.681173   \n",
       "15650               -0.142293           -0.681173   \n",
       "250                 -0.142293           -0.681173   \n",
       "20173               -0.142293           -0.681173   \n",
       "28535               -0.142293           -0.681173   \n",
       "\n",
       "       type_of_shot_unknown_type_of_shot  type_of_combined_shot_shot - 1  \\\n",
       "5197                            1.009154                       -0.139104   \n",
       "15650                          -0.990925                       -0.139104   \n",
       "250                             1.009154                       -0.139104   \n",
       "20173                          -0.990925                       -0.139104   \n",
       "28535                           1.009154                       -0.139104   \n",
       "\n",
       "       type_of_combined_shot_shot - 3  type_of_combined_shot_shot - 4  \\\n",
       "5197                         1.278697                       -0.311694   \n",
       "15650                       -0.782043                       -0.311694   \n",
       "250                          1.278697                       -0.311694   \n",
       "20173                       -0.782043                       -0.311694   \n",
       "28535                        1.278697                       -0.311694   \n",
       "\n",
       "       type_of_combined_shot_OTHER  \\\n",
       "5197                     -0.092109   \n",
       "15650                    -0.092109   \n",
       "250                      -0.092109   \n",
       "20173                    -0.092109   \n",
       "28535                    -0.092109   \n",
       "\n",
       "       type_of_combined_shot_unknown_type_of_combined_shot  \n",
       "5197                                           -1.009154    \n",
       "15650                                           0.990925    \n",
       "250                                            -1.009154    \n",
       "20173                                           0.990925    \n",
       "28535                                          -1.009154    \n",
       "\n",
       "[5 rows x 110 columns]"
      ]
     },
     "execution_count": 62,
     "metadata": {},
     "output_type": "execute_result"
    }
   ],
   "source": [
    "X_train.head()"
   ]
  },
  {
   "cell_type": "code",
   "execution_count": 74,
   "metadata": {},
   "outputs": [],
   "source": [
    "xgb=XGBClassifier(n_estimators=50, max_depth=9)\n",
    "xgb.fit(X_train,y_train)\n",
    "pred=xgb.predict(X_test)"
   ]
  },
  {
   "cell_type": "code",
   "execution_count": 75,
   "metadata": {},
   "outputs": [
    {
     "name": "stdout",
     "output_type": "stream",
     "text": [
      "Accuracy on test dataset  0.6182053494391717\n",
      "AUC on test dataset  0.5902042054089994\n",
      "Mean absolute error on test dataset  0.3817946505608283\n"
     ]
    }
   ],
   "source": [
    "acc=metrics.accuracy_score(y_test,pred)\n",
    "auc=metrics.roc_auc_score(y_test,pred)\n",
    "mae=metrics.mean_absolute_error(y_test, pred)\n",
    "print(\"Accuracy on test dataset \",acc)\n",
    "print(\"AUC on test dataset \",auc)\n",
    "print(\"Mean absolute error on test dataset \",mae)"
   ]
  },
  {
   "cell_type": "code",
   "execution_count": 76,
   "metadata": {},
   "outputs": [
    {
     "name": "stderr",
     "output_type": "stream",
     "text": [
      "C:\\Users\\abc\\Anaconda3\\lib\\site-packages\\sklearn\\linear_model\\logistic.py:433: FutureWarning: Default solver will be changed to 'lbfgs' in 0.22. Specify a solver to silence this warning.\n",
      "  FutureWarning)\n",
      "C:\\Users\\abc\\Anaconda3\\lib\\site-packages\\sklearn\\linear_model\\logistic.py:433: FutureWarning: Default solver will be changed to 'lbfgs' in 0.22. Specify a solver to silence this warning.\n",
      "  FutureWarning)\n",
      "C:\\Users\\abc\\Anaconda3\\lib\\site-packages\\sklearn\\linear_model\\logistic.py:433: FutureWarning: Default solver will be changed to 'lbfgs' in 0.22. Specify a solver to silence this warning.\n",
      "  FutureWarning)\n",
      "C:\\Users\\abc\\Anaconda3\\lib\\site-packages\\sklearn\\linear_model\\logistic.py:433: FutureWarning: Default solver will be changed to 'lbfgs' in 0.22. Specify a solver to silence this warning.\n",
      "  FutureWarning)\n",
      "C:\\Users\\abc\\Anaconda3\\lib\\site-packages\\sklearn\\linear_model\\logistic.py:433: FutureWarning: Default solver will be changed to 'lbfgs' in 0.22. Specify a solver to silence this warning.\n",
      "  FutureWarning)\n",
      "C:\\Users\\abc\\Anaconda3\\lib\\site-packages\\sklearn\\linear_model\\logistic.py:433: FutureWarning: Default solver will be changed to 'lbfgs' in 0.22. Specify a solver to silence this warning.\n",
      "  FutureWarning)\n",
      "C:\\Users\\abc\\Anaconda3\\lib\\site-packages\\sklearn\\linear_model\\logistic.py:433: FutureWarning: Default solver will be changed to 'lbfgs' in 0.22. Specify a solver to silence this warning.\n",
      "  FutureWarning)\n",
      "C:\\Users\\abc\\Anaconda3\\lib\\site-packages\\sklearn\\linear_model\\logistic.py:433: FutureWarning: Default solver will be changed to 'lbfgs' in 0.22. Specify a solver to silence this warning.\n",
      "  FutureWarning)\n",
      "C:\\Users\\abc\\Anaconda3\\lib\\site-packages\\sklearn\\linear_model\\logistic.py:433: FutureWarning: Default solver will be changed to 'lbfgs' in 0.22. Specify a solver to silence this warning.\n",
      "  FutureWarning)\n",
      "C:\\Users\\abc\\Anaconda3\\lib\\site-packages\\sklearn\\linear_model\\logistic.py:433: FutureWarning: Default solver will be changed to 'lbfgs' in 0.22. Specify a solver to silence this warning.\n",
      "  FutureWarning)\n",
      "C:\\Users\\abc\\Anaconda3\\lib\\site-packages\\sklearn\\linear_model\\logistic.py:433: FutureWarning: Default solver will be changed to 'lbfgs' in 0.22. Specify a solver to silence this warning.\n",
      "  FutureWarning)\n",
      "C:\\Users\\abc\\Anaconda3\\lib\\site-packages\\sklearn\\linear_model\\logistic.py:433: FutureWarning: Default solver will be changed to 'lbfgs' in 0.22. Specify a solver to silence this warning.\n",
      "  FutureWarning)\n",
      "C:\\Users\\abc\\Anaconda3\\lib\\site-packages\\sklearn\\linear_model\\logistic.py:433: FutureWarning: Default solver will be changed to 'lbfgs' in 0.22. Specify a solver to silence this warning.\n",
      "  FutureWarning)\n",
      "C:\\Users\\abc\\Anaconda3\\lib\\site-packages\\sklearn\\linear_model\\logistic.py:433: FutureWarning: Default solver will be changed to 'lbfgs' in 0.22. Specify a solver to silence this warning.\n",
      "  FutureWarning)\n",
      "C:\\Users\\abc\\Anaconda3\\lib\\site-packages\\sklearn\\linear_model\\logistic.py:433: FutureWarning: Default solver will be changed to 'lbfgs' in 0.22. Specify a solver to silence this warning.\n",
      "  FutureWarning)\n",
      "C:\\Users\\abc\\Anaconda3\\lib\\site-packages\\sklearn\\linear_model\\logistic.py:433: FutureWarning: Default solver will be changed to 'lbfgs' in 0.22. Specify a solver to silence this warning.\n",
      "  FutureWarning)\n",
      "C:\\Users\\abc\\Anaconda3\\lib\\site-packages\\sklearn\\linear_model\\logistic.py:433: FutureWarning: Default solver will be changed to 'lbfgs' in 0.22. Specify a solver to silence this warning.\n",
      "  FutureWarning)\n",
      "C:\\Users\\abc\\Anaconda3\\lib\\site-packages\\sklearn\\linear_model\\logistic.py:433: FutureWarning: Default solver will be changed to 'lbfgs' in 0.22. Specify a solver to silence this warning.\n",
      "  FutureWarning)\n",
      "C:\\Users\\abc\\Anaconda3\\lib\\site-packages\\sklearn\\linear_model\\logistic.py:433: FutureWarning: Default solver will be changed to 'lbfgs' in 0.22. Specify a solver to silence this warning.\n",
      "  FutureWarning)\n",
      "C:\\Users\\abc\\Anaconda3\\lib\\site-packages\\sklearn\\linear_model\\logistic.py:433: FutureWarning: Default solver will be changed to 'lbfgs' in 0.22. Specify a solver to silence this warning.\n",
      "  FutureWarning)\n",
      "C:\\Users\\abc\\Anaconda3\\lib\\site-packages\\sklearn\\linear_model\\logistic.py:433: FutureWarning: Default solver will be changed to 'lbfgs' in 0.22. Specify a solver to silence this warning.\n",
      "  FutureWarning)\n",
      "C:\\Users\\abc\\Anaconda3\\lib\\site-packages\\sklearn\\linear_model\\logistic.py:433: FutureWarning: Default solver will be changed to 'lbfgs' in 0.22. Specify a solver to silence this warning.\n",
      "  FutureWarning)\n",
      "C:\\Users\\abc\\Anaconda3\\lib\\site-packages\\sklearn\\linear_model\\logistic.py:433: FutureWarning: Default solver will be changed to 'lbfgs' in 0.22. Specify a solver to silence this warning.\n",
      "  FutureWarning)\n",
      "C:\\Users\\abc\\Anaconda3\\lib\\site-packages\\sklearn\\linear_model\\logistic.py:433: FutureWarning: Default solver will be changed to 'lbfgs' in 0.22. Specify a solver to silence this warning.\n",
      "  FutureWarning)\n",
      "C:\\Users\\abc\\Anaconda3\\lib\\site-packages\\sklearn\\linear_model\\logistic.py:433: FutureWarning: Default solver will be changed to 'lbfgs' in 0.22. Specify a solver to silence this warning.\n",
      "  FutureWarning)\n",
      "C:\\Users\\abc\\Anaconda3\\lib\\site-packages\\sklearn\\linear_model\\logistic.py:433: FutureWarning: Default solver will be changed to 'lbfgs' in 0.22. Specify a solver to silence this warning.\n",
      "  FutureWarning)\n"
     ]
    },
    {
     "name": "stdout",
     "output_type": "stream",
     "text": [
      "LogisticRegression(C=0.01, class_weight=None, dual=False, fit_intercept=True,\n",
      "          intercept_scaling=1, max_iter=100, multi_class='warn',\n",
      "          n_jobs=None, penalty='l2', random_state=None, solver='warn',\n",
      "          tol=0.0001, verbose=0, warm_start=False)\n",
      "-0.3854616048317515\n"
     ]
    }
   ],
   "source": [
    "from sklearn.linear_model import LogisticRegression\n",
    "tuned_parameters = [{'C': [10**-4, 10**-2, 10**0, 10**2, 10**4]}]\n",
    "model = GridSearchCV(LogisticRegression(), tuned_parameters, scoring = 'neg_mean_absolute_error', cv=5)\n",
    "model.fit(X_train, y_train)\n",
    "\n",
    "print(model.best_estimator_)\n",
    "print(model.score(X_test, y_test))"
   ]
  },
  {
   "cell_type": "code",
   "execution_count": 77,
   "metadata": {},
   "outputs": [
    {
     "name": "stderr",
     "output_type": "stream",
     "text": [
      "C:\\Users\\abc\\Anaconda3\\lib\\site-packages\\sklearn\\linear_model\\logistic.py:433: FutureWarning: Default solver will be changed to 'lbfgs' in 0.22. Specify a solver to silence this warning.\n",
      "  FutureWarning)\n"
     ]
    }
   ],
   "source": [
    "clf = LogisticRegression(C=0.01, penalty='l2')\n",
    "clf.fit(X_train, y_train)\n",
    "pred = clf.predict(X_test)"
   ]
  },
  {
   "cell_type": "code",
   "execution_count": 78,
   "metadata": {},
   "outputs": [
    {
     "name": "stdout",
     "output_type": "stream",
     "text": [
      "Accuracy on test dataset  0.6145383951682485\n",
      "AUC on test dataset  0.5872793299824924\n",
      "Mean absolute error on test dataset  0.3854616048317515\n"
     ]
    }
   ],
   "source": [
    "\n",
    "acc=metrics.accuracy_score(y_test,pred)\n",
    "auc=metrics.roc_auc_score(y_test,pred)\n",
    "mae=metrics.mean_absolute_error(y_test, pred)\n",
    "print(\"Accuracy on test dataset \",acc)\n",
    "print(\"AUC on test dataset \",auc)\n",
    "print(\"Mean absolute error on test dataset \",mae)"
   ]
  },
  {
   "cell_type": "code",
   "execution_count": 79,
   "metadata": {},
   "outputs": [
    {
     "name": "stdout",
     "output_type": "stream",
     "text": [
      "Best HyperParameter:  {'max_depth': 9, 'n_estimators': 100}\n"
     ]
    }
   ],
   "source": [
    "# performing hyperparameter tuning of max_depth and n_estimators features using grid search and by using random forest classifier \n",
    "random_classifier = RandomForestClassifier()\n",
    "\n",
    "parameters = { 'max_depth':np.arange(5,10),'n_estimators':list(range(50,301,25))}\n",
    "\n",
    "random_grid = GridSearchCV(random_classifier, parameters, cv = 3,scoring = 'neg_mean_absolute_error')\n",
    "\n",
    "random_grid.fit(X_train, y_train)\n",
    "\n",
    "print(\"Best HyperParameter: \",random_grid.best_params_)"
   ]
  },
  {
   "cell_type": "code",
   "execution_count": 80,
   "metadata": {},
   "outputs": [
    {
     "data": {
      "text/plain": [
       "RandomForestClassifier(bootstrap=True, class_weight='balanced',\n",
       "            criterion='gini', max_depth=9, max_features=None,\n",
       "            max_leaf_nodes=None, min_impurity_decrease=0.0,\n",
       "            min_impurity_split=None, min_samples_leaf=1,\n",
       "            min_samples_split=2, min_weight_fraction_leaf=0.0,\n",
       "            n_estimators=100, n_jobs=-1, oob_score=True, random_state=42,\n",
       "            verbose=0, warm_start=False)"
      ]
     },
     "execution_count": 80,
     "metadata": {},
     "output_type": "execute_result"
    }
   ],
   "source": [
    "rf_model = RandomForestClassifier(\n",
    "    n_estimators=100,\n",
    "    #criterion='entropy',\n",
    "    max_depth=9,   # expand until all leaves are pure or contain < MIN_SAMPLES_SPLIT samples\n",
    "    #min_samples_split=100,\n",
    "    #min_samples_leaf=50,\n",
    "    #min_weight_fraction_leaf=0.0,\n",
    "    max_features=None,   # number of features to consider when looking for the best split; None: max_features=n_features\n",
    "    max_leaf_nodes=None,   # None: unlimited number of leaf nodes\n",
    "    bootstrap=True,\n",
    "    oob_score=True,   # estimate Out-of-Bag Cross Entropy\n",
    "    n_jobs=-1,   # paralellize over all CPU cores but 2\n",
    "    class_weight='balanced',    # our classes are skewed, but but too skewed\n",
    "    random_state=42,\n",
    "    verbose=0,\n",
    "    warm_start=False)\n",
    "\n",
    "rf_model.fit(X=X_train, y=y_train)"
   ]
  },
  {
   "cell_type": "code",
   "execution_count": 81,
   "metadata": {},
   "outputs": [
    {
     "name": "stdout",
     "output_type": "stream",
     "text": [
      "Accuracy on train dataset  0.6700641751604379\n",
      "AUC on train dataset  0.6431684163036114\n",
      "Mean absolute error on train dataset  0.6431684163036114\n"
     ]
    }
   ],
   "source": [
    "rf_pred_probs=rf_model.predict(X_train)\n",
    "acc=metrics.accuracy_score(y_train,rf_pred_probs)\n",
    "auc=metrics.roc_auc_score(y_train,rf_pred_probs)\n",
    "mae=metrics.mean_absolute_error(y_train,rf_pred_probs)\n",
    "print(\"Accuracy on train dataset \",acc)\n",
    "print(\"AUC on train dataset \",auc)\n",
    "print(\"Mean absolute error on train dataset \",auc)"
   ]
  },
  {
   "cell_type": "code",
   "execution_count": 82,
   "metadata": {},
   "outputs": [
    {
     "name": "stdout",
     "output_type": "stream",
     "text": [
      "Accuracy on test dataset  0.6220880069025022\n",
      "AUC on test dataset  0.594514905026544\n",
      "Mean absolute error on test dataset  0.37791199309749784\n"
     ]
    }
   ],
   "source": [
    "rf_pred_probs=rf_model.predict(X_test)\n",
    "\n",
    "acc=metrics.accuracy_score(y_test,rf_pred_probs)\n",
    "auc=metrics.roc_auc_score(y_test,rf_pred_probs)\n",
    "mae=metrics.mean_absolute_error(y_test,rf_pred_probs)\n",
    "print(\"Accuracy on test dataset \",acc)\n",
    "print(\"AUC on test dataset \",auc)\n",
    "print(\"Mean absolute error on test dataset \",mae)"
   ]
  },
  {
   "cell_type": "code",
   "execution_count": 83,
   "metadata": {},
   "outputs": [
    {
     "data": {
      "text/html": [
       "<div>\n",
       "<style scoped>\n",
       "    .dataframe tbody tr th:only-of-type {\n",
       "        vertical-align: middle;\n",
       "    }\n",
       "\n",
       "    .dataframe tbody tr th {\n",
       "        vertical-align: top;\n",
       "    }\n",
       "\n",
       "    .dataframe thead th {\n",
       "        text-align: right;\n",
       "    }\n",
       "</style>\n",
       "<table border=\"1\" class=\"dataframe\">\n",
       "  <thead>\n",
       "    <tr style=\"text-align: right;\">\n",
       "      <th></th>\n",
       "      <th>importance</th>\n",
       "    </tr>\n",
       "  </thead>\n",
       "  <tbody>\n",
       "    <tr>\n",
       "      <th>distance_of_shot</th>\n",
       "      <td>0.260416</td>\n",
       "    </tr>\n",
       "    <tr>\n",
       "      <th>type_of_shot_shot - 39</th>\n",
       "      <td>0.066186</td>\n",
       "    </tr>\n",
       "    <tr>\n",
       "      <th>location_x</th>\n",
       "      <td>0.049474</td>\n",
       "    </tr>\n",
       "    <tr>\n",
       "      <th>remaining_sec.1</th>\n",
       "      <td>0.048887</td>\n",
       "    </tr>\n",
       "    <tr>\n",
       "      <th>type_of_shot_shot - 44</th>\n",
       "      <td>0.048073</td>\n",
       "    </tr>\n",
       "    <tr>\n",
       "      <th>type_of_combined_shot_shot - 4</th>\n",
       "      <td>0.044513</td>\n",
       "    </tr>\n",
       "    <tr>\n",
       "      <th>remaining_sec</th>\n",
       "      <td>0.041535</td>\n",
       "    </tr>\n",
       "    <tr>\n",
       "      <th>location_y</th>\n",
       "      <td>0.039143</td>\n",
       "    </tr>\n",
       "    <tr>\n",
       "      <th>remaining_min.1</th>\n",
       "      <td>0.035777</td>\n",
       "    </tr>\n",
       "    <tr>\n",
       "      <th>distance_of_shot.1</th>\n",
       "      <td>0.035741</td>\n",
       "    </tr>\n",
       "    <tr>\n",
       "      <th>shot_basics_Goal Area</th>\n",
       "      <td>0.026418</td>\n",
       "    </tr>\n",
       "    <tr>\n",
       "      <th>remaining_min</th>\n",
       "      <td>0.025644</td>\n",
       "    </tr>\n",
       "    <tr>\n",
       "      <th>power_of_shot.1</th>\n",
       "      <td>0.024866</td>\n",
       "    </tr>\n",
       "    <tr>\n",
       "      <th>type_of_combined_shot_OTHER</th>\n",
       "      <td>0.023260</td>\n",
       "    </tr>\n",
       "    <tr>\n",
       "      <th>knockout_match.1</th>\n",
       "      <td>0.022328</td>\n",
       "    </tr>\n",
       "    <tr>\n",
       "      <th>power_of_shot</th>\n",
       "      <td>0.017739</td>\n",
       "    </tr>\n",
       "    <tr>\n",
       "      <th>lat/lng_42.982923, -71.446094</th>\n",
       "      <td>0.007803</td>\n",
       "    </tr>\n",
       "    <tr>\n",
       "      <th>type_of_combined_shot_shot - 1</th>\n",
       "      <td>0.007359</td>\n",
       "    </tr>\n",
       "    <tr>\n",
       "      <th>type_of_shot_shot - 38</th>\n",
       "      <td>0.006681</td>\n",
       "    </tr>\n",
       "    <tr>\n",
       "      <th>type_of_shot_shot - 15</th>\n",
       "      <td>0.004859</td>\n",
       "    </tr>\n",
       "    <tr>\n",
       "      <th>game_season_2008-09</th>\n",
       "      <td>0.004613</td>\n",
       "    </tr>\n",
       "    <tr>\n",
       "      <th>game_season_2007-08</th>\n",
       "      <td>0.004586</td>\n",
       "    </tr>\n",
       "    <tr>\n",
       "      <th>lat/lng_OTHER</th>\n",
       "      <td>0.004387</td>\n",
       "    </tr>\n",
       "    <tr>\n",
       "      <th>home/away_OTHER</th>\n",
       "      <td>0.004162</td>\n",
       "    </tr>\n",
       "    <tr>\n",
       "      <th>game_season_2005-06</th>\n",
       "      <td>0.003877</td>\n",
       "    </tr>\n",
       "    <tr>\n",
       "      <th>type_of_shot_shot - 36</th>\n",
       "      <td>0.003765</td>\n",
       "    </tr>\n",
       "    <tr>\n",
       "      <th>lat/lng_unknown_lat/lng</th>\n",
       "      <td>0.003747</td>\n",
       "    </tr>\n",
       "    <tr>\n",
       "      <th>knockout_match</th>\n",
       "      <td>0.003646</td>\n",
       "    </tr>\n",
       "    <tr>\n",
       "      <th>game_season_unknown_game_season</th>\n",
       "      <td>0.003321</td>\n",
       "    </tr>\n",
       "    <tr>\n",
       "      <th>home/away_unknown_home/away</th>\n",
       "      <td>0.003321</td>\n",
       "    </tr>\n",
       "    <tr>\n",
       "      <th>...</th>\n",
       "      <td>...</td>\n",
       "    </tr>\n",
       "    <tr>\n",
       "      <th>game_season_2014-15</th>\n",
       "      <td>0.001181</td>\n",
       "    </tr>\n",
       "    <tr>\n",
       "      <th>lat/lng_40.774891, -111.930790</th>\n",
       "      <td>0.001172</td>\n",
       "    </tr>\n",
       "    <tr>\n",
       "      <th>type_of_shot_unknown_type_of_shot</th>\n",
       "      <td>0.001159</td>\n",
       "    </tr>\n",
       "    <tr>\n",
       "      <th>home/away_MANU @ SAC</th>\n",
       "      <td>0.001147</td>\n",
       "    </tr>\n",
       "    <tr>\n",
       "      <th>home/away_MANU @ PHX</th>\n",
       "      <td>0.001137</td>\n",
       "    </tr>\n",
       "    <tr>\n",
       "      <th>home/away_MANU @ DAL</th>\n",
       "      <td>0.001110</td>\n",
       "    </tr>\n",
       "    <tr>\n",
       "      <th>home/away_MANU vs. GSW</th>\n",
       "      <td>0.001067</td>\n",
       "    </tr>\n",
       "    <tr>\n",
       "      <th>lat/lng_45.539131, -122.651648</th>\n",
       "      <td>0.001051</td>\n",
       "    </tr>\n",
       "    <tr>\n",
       "      <th>home/away_MANU @ BOS</th>\n",
       "      <td>0.001025</td>\n",
       "    </tr>\n",
       "    <tr>\n",
       "      <th>lat/lng_42.330507, -71.074655</th>\n",
       "      <td>0.001009</td>\n",
       "    </tr>\n",
       "    <tr>\n",
       "      <th>game_season_OTHER</th>\n",
       "      <td>0.000991</td>\n",
       "    </tr>\n",
       "    <tr>\n",
       "      <th>lat/lng_32.757824, -96.786653</th>\n",
       "      <td>0.000968</td>\n",
       "    </tr>\n",
       "    <tr>\n",
       "      <th>shot_basics_Goal Line</th>\n",
       "      <td>0.000949</td>\n",
       "    </tr>\n",
       "    <tr>\n",
       "      <th>lat/lng_34.189593, -118.471724</th>\n",
       "      <td>0.000910</td>\n",
       "    </tr>\n",
       "    <tr>\n",
       "      <th>lat/lng_35.103812, -89.964007</th>\n",
       "      <td>0.000904</td>\n",
       "    </tr>\n",
       "    <tr>\n",
       "      <th>home/away_MANU @ UTA</th>\n",
       "      <td>0.000890</td>\n",
       "    </tr>\n",
       "    <tr>\n",
       "      <th>shot_basics_Mid Range</th>\n",
       "      <td>0.000680</td>\n",
       "    </tr>\n",
       "    <tr>\n",
       "      <th>shot_basics_Penalty Spot</th>\n",
       "      <td>0.000663</td>\n",
       "    </tr>\n",
       "    <tr>\n",
       "      <th>home/away_MANU @ MIN</th>\n",
       "      <td>0.000650</td>\n",
       "    </tr>\n",
       "    <tr>\n",
       "      <th>range_of_shot_16-24 ft.</th>\n",
       "      <td>0.000614</td>\n",
       "    </tr>\n",
       "    <tr>\n",
       "      <th>home/away_MANU @ LAC</th>\n",
       "      <td>0.000588</td>\n",
       "    </tr>\n",
       "    <tr>\n",
       "      <th>home/away_MANU @ MEM</th>\n",
       "      <td>0.000570</td>\n",
       "    </tr>\n",
       "    <tr>\n",
       "      <th>lat/lng_46.667324, -94.419250</th>\n",
       "      <td>0.000552</td>\n",
       "    </tr>\n",
       "    <tr>\n",
       "      <th>area_of_shot_Left Side Center(LC)</th>\n",
       "      <td>0.000535</td>\n",
       "    </tr>\n",
       "    <tr>\n",
       "      <th>area_of_shot_Left Side(L)</th>\n",
       "      <td>0.000509</td>\n",
       "    </tr>\n",
       "    <tr>\n",
       "      <th>area_of_shot_Right Side Center(RC)</th>\n",
       "      <td>0.000502</td>\n",
       "    </tr>\n",
       "    <tr>\n",
       "      <th>shot_basics_OTHER</th>\n",
       "      <td>0.000298</td>\n",
       "    </tr>\n",
       "    <tr>\n",
       "      <th>area_of_shot_Right Side(R)</th>\n",
       "      <td>0.000292</td>\n",
       "    </tr>\n",
       "    <tr>\n",
       "      <th>area_of_shot_OTHER</th>\n",
       "      <td>0.000000</td>\n",
       "    </tr>\n",
       "    <tr>\n",
       "      <th>range_of_shot_OTHER</th>\n",
       "      <td>0.000000</td>\n",
       "    </tr>\n",
       "  </tbody>\n",
       "</table>\n",
       "<p>110 rows × 1 columns</p>\n",
       "</div>"
      ],
      "text/plain": [
       "                                    importance\n",
       "distance_of_shot                      0.260416\n",
       "type_of_shot_shot - 39                0.066186\n",
       "location_x                            0.049474\n",
       "remaining_sec.1                       0.048887\n",
       "type_of_shot_shot - 44                0.048073\n",
       "type_of_combined_shot_shot - 4        0.044513\n",
       "remaining_sec                         0.041535\n",
       "location_y                            0.039143\n",
       "remaining_min.1                       0.035777\n",
       "distance_of_shot.1                    0.035741\n",
       "shot_basics_Goal Area                 0.026418\n",
       "remaining_min                         0.025644\n",
       "power_of_shot.1                       0.024866\n",
       "type_of_combined_shot_OTHER           0.023260\n",
       "knockout_match.1                      0.022328\n",
       "power_of_shot                         0.017739\n",
       "lat/lng_42.982923, -71.446094         0.007803\n",
       "type_of_combined_shot_shot - 1        0.007359\n",
       "type_of_shot_shot - 38                0.006681\n",
       "type_of_shot_shot - 15                0.004859\n",
       "game_season_2008-09                   0.004613\n",
       "game_season_2007-08                   0.004586\n",
       "lat/lng_OTHER                         0.004387\n",
       "home/away_OTHER                       0.004162\n",
       "game_season_2005-06                   0.003877\n",
       "type_of_shot_shot - 36                0.003765\n",
       "lat/lng_unknown_lat/lng               0.003747\n",
       "knockout_match                        0.003646\n",
       "game_season_unknown_game_season       0.003321\n",
       "home/away_unknown_home/away           0.003321\n",
       "...                                        ...\n",
       "game_season_2014-15                   0.001181\n",
       "lat/lng_40.774891, -111.930790        0.001172\n",
       "type_of_shot_unknown_type_of_shot     0.001159\n",
       "home/away_MANU @ SAC                  0.001147\n",
       "home/away_MANU @ PHX                  0.001137\n",
       "home/away_MANU @ DAL                  0.001110\n",
       "home/away_MANU vs. GSW                0.001067\n",
       "lat/lng_45.539131, -122.651648        0.001051\n",
       "home/away_MANU @ BOS                  0.001025\n",
       "lat/lng_42.330507, -71.074655         0.001009\n",
       "game_season_OTHER                     0.000991\n",
       "lat/lng_32.757824, -96.786653         0.000968\n",
       "shot_basics_Goal Line                 0.000949\n",
       "lat/lng_34.189593, -118.471724        0.000910\n",
       "lat/lng_35.103812, -89.964007         0.000904\n",
       "home/away_MANU @ UTA                  0.000890\n",
       "shot_basics_Mid Range                 0.000680\n",
       "shot_basics_Penalty Spot              0.000663\n",
       "home/away_MANU @ MIN                  0.000650\n",
       "range_of_shot_16-24 ft.               0.000614\n",
       "home/away_MANU @ LAC                  0.000588\n",
       "home/away_MANU @ MEM                  0.000570\n",
       "lat/lng_46.667324, -94.419250         0.000552\n",
       "area_of_shot_Left Side Center(LC)     0.000535\n",
       "area_of_shot_Left Side(L)             0.000509\n",
       "area_of_shot_Right Side Center(RC)    0.000502\n",
       "shot_basics_OTHER                     0.000298\n",
       "area_of_shot_Right Side(R)            0.000292\n",
       "area_of_shot_OTHER                    0.000000\n",
       "range_of_shot_OTHER                   0.000000\n",
       "\n",
       "[110 rows x 1 columns]"
      ]
     },
     "execution_count": 83,
     "metadata": {},
     "output_type": "execute_result"
    }
   ],
   "source": [
    "feature_importances = pd.DataFrame(rf_model.feature_importances_,\n",
    "                                   index = X_train.columns,\n",
    "                                    columns=['importance']).sort_values('importance', ascending=False)\n",
    "feature_importances"
   ]
  },
  {
   "cell_type": "code",
   "execution_count": 84,
   "metadata": {},
   "outputs": [
    {
     "data": {
      "text/plain": [
       "Index(['distance_of_shot', 'type_of_shot_shot - 39', 'location_x',\n",
       "       'remaining_sec.1', 'type_of_shot_shot - 44',\n",
       "       'type_of_combined_shot_shot - 4', 'remaining_sec', 'location_y',\n",
       "       'remaining_min.1', 'distance_of_shot.1', 'shot_basics_Goal Area',\n",
       "       'remaining_min', 'power_of_shot.1', 'type_of_combined_shot_OTHER',\n",
       "       'knockout_match.1', 'power_of_shot', 'lat/lng_42.982923, -71.446094',\n",
       "       'type_of_combined_shot_shot - 1', 'type_of_shot_shot - 38',\n",
       "       'type_of_shot_shot - 15', 'game_season_2008-09', 'game_season_2007-08',\n",
       "       'lat/lng_OTHER', 'home/away_OTHER', 'game_season_2005-06',\n",
       "       'type_of_shot_shot - 36', 'lat/lng_unknown_lat/lng', 'knockout_match',\n",
       "       'game_season_unknown_game_season', 'home/away_unknown_home/away',\n",
       "       'game_season_2001-02', 'game_season_2010-11', 'game_season_1998-99',\n",
       "       'game_season_2009-10', 'home/away_MANU @ SAS', 'home/away_MANU @ HOU',\n",
       "       'range_of_shot_24+ ft.', 'game_season_2000-01',\n",
       "       'team_name_Manchester United', 'game_season_2012-13',\n",
       "       'game_season_2003-04', 'type_of_shot_OTHER', 'game_season_2002-03',\n",
       "       'lat/lng_29.444994, -98.524120', 'lat/lng_29.740325, -95.365762',\n",
       "       'home/away_MANU vs. SAC', 'date_of_game_OTHER',\n",
       "       'shot_basics_unknown_shot_basics', 'area_of_shot_Center(C)',\n",
       "       'game_season_1999-00', 'game_season_2006-07', 'game_season_1997-98',\n",
       "       'lat/lng_33.552026, -112.071667', 'type_of_combined_shot_shot - 3',\n",
       "       'home/away_MANU @ DEN', 'home/away_MANU vs. DEN', 'game_season_2004-05',\n",
       "       'home/away_MANU vs. HOU', 'home/away_MANU vs. MEM',\n",
       "       'home/away_MANU vs. MIN', 'game_season_2011-12', 'game_season_2015-16',\n",
       "       'range_of_shot_unknown_range_of_shot', 'lat/lng_39.739968, -104.954013',\n",
       "       'area_of_shot_unknown_area_of_shot', 'lat/lng_38.567296, -121.456638',\n",
       "       'type_of_combined_shot_unknown_type_of_combined_shot',\n",
       "       'date_of_game_unknown_date_of_game', 'home/away_MANU vs. DAL',\n",
       "       'home/away_MANU @ GSW', 'home/away_MANU vs. LAC',\n",
       "       'type_of_shot_shot - 4', 'range_of_shot_Less Than 8 ft.',\n",
       "       'home/away_MANU vs. SAS', 'home/away_MANU @ POR',\n",
       "       'home/away_MANU vs. UTA', 'range_of_shot_8-16 ft.',\n",
       "       'home/away_MANU vs. POR', 'lat/lng_37.754130, -122.437947',\n",
       "       'home/away_MANU vs. PHX', 'game_season_2014-15',\n",
       "       'lat/lng_40.774891, -111.930790', 'type_of_shot_unknown_type_of_shot',\n",
       "       'home/away_MANU @ SAC', 'home/away_MANU @ PHX', 'home/away_MANU @ DAL',\n",
       "       'home/away_MANU vs. GSW', 'lat/lng_45.539131, -122.651648',\n",
       "       'home/away_MANU @ BOS', 'lat/lng_42.330507, -71.074655',\n",
       "       'game_season_OTHER', 'lat/lng_32.757824, -96.786653',\n",
       "       'shot_basics_Goal Line', 'lat/lng_34.189593, -118.471724',\n",
       "       'lat/lng_35.103812, -89.964007', 'home/away_MANU @ UTA',\n",
       "       'shot_basics_Mid Range', 'shot_basics_Penalty Spot',\n",
       "       'home/away_MANU @ MIN', 'range_of_shot_16-24 ft.'],\n",
       "      dtype='object')"
      ]
     },
     "execution_count": 84,
     "metadata": {},
     "output_type": "execute_result"
    }
   ],
   "source": [
    "# feature importance\n",
    "# finding the top 100 features\n",
    "feature_importances = pd.DataFrame(rf_model.feature_importances_,\n",
    "                                   index = X_train.columns,\n",
    "                                    columns=['importance']).sort_values('importance', ascending=False)\n",
    "feature_importances[:100].index"
   ]
  },
  {
   "cell_type": "code",
   "execution_count": 85,
   "metadata": {},
   "outputs": [],
   "source": [
    "data=X[['distance_of_shot', 'type_of_shot_shot - 39', 'location_x',\n",
    "       'remaining_sec.1', 'type_of_shot_shot - 44',\n",
    "       'type_of_combined_shot_shot - 4', 'remaining_sec', 'location_y',\n",
    "       'remaining_min.1', 'distance_of_shot.1', 'shot_basics_Goal Area',\n",
    "       'remaining_min', 'power_of_shot.1', 'type_of_combined_shot_OTHER',\n",
    "       'knockout_match.1', 'power_of_shot', 'lat/lng_42.982923, -71.446094',\n",
    "       'type_of_combined_shot_shot - 1', 'type_of_shot_shot - 38',\n",
    "       'type_of_shot_shot - 15', 'game_season_2008-09', 'game_season_2007-08',\n",
    "       'lat/lng_OTHER', 'home/away_OTHER', 'game_season_2005-06',\n",
    "       'type_of_shot_shot - 36', 'lat/lng_unknown_lat/lng', 'knockout_match',\n",
    "       'game_season_unknown_game_season', 'home/away_unknown_home/away',\n",
    "       'game_season_2001-02', 'game_season_2010-11', 'game_season_1998-99',\n",
    "       'game_season_2009-10', 'home/away_MANU @ SAS', 'home/away_MANU @ HOU',\n",
    "       'range_of_shot_24+ ft.', 'game_season_2000-01',\n",
    "       'team_name_Manchester United', 'game_season_2012-13',\n",
    "       'game_season_2003-04', 'type_of_shot_OTHER', 'game_season_2002-03',\n",
    "       'lat/lng_29.444994, -98.524120', 'lat/lng_29.740325, -95.365762',\n",
    "       'home/away_MANU vs. SAC', 'date_of_game_OTHER',\n",
    "       'shot_basics_unknown_shot_basics', 'area_of_shot_Center(C)',\n",
    "       'game_season_1999-00', 'game_season_2006-07', 'game_season_1997-98',\n",
    "       'lat/lng_33.552026, -112.071667', 'type_of_combined_shot_shot - 3',\n",
    "       'home/away_MANU @ DEN', 'home/away_MANU vs. DEN', 'game_season_2004-05',\n",
    "       'home/away_MANU vs. HOU', 'home/away_MANU vs. MEM',\n",
    "       'home/away_MANU vs. MIN', 'game_season_2011-12', 'game_season_2015-16',\n",
    "       'range_of_shot_unknown_range_of_shot', 'lat/lng_39.739968, -104.954013',\n",
    "       'area_of_shot_unknown_area_of_shot', 'lat/lng_38.567296, -121.456638',\n",
    "       'type_of_combined_shot_unknown_type_of_combined_shot',\n",
    "       'date_of_game_unknown_date_of_game', 'home/away_MANU vs. DAL',\n",
    "       'home/away_MANU @ GSW', 'home/away_MANU vs. LAC',\n",
    "       'type_of_shot_shot - 4', 'range_of_shot_Less Than 8 ft.',\n",
    "       'home/away_MANU vs. SAS', 'home/away_MANU @ POR',\n",
    "       'home/away_MANU vs. UTA', 'range_of_shot_8-16 ft.',\n",
    "       'home/away_MANU vs. POR', 'lat/lng_37.754130, -122.437947',\n",
    "       'home/away_MANU vs. PHX', 'game_season_2014-15',\n",
    "       'lat/lng_40.774891, -111.930790', 'type_of_shot_unknown_type_of_shot',\n",
    "       'home/away_MANU @ SAC', 'home/away_MANU @ PHX', 'home/away_MANU @ DAL',\n",
    "       'home/away_MANU vs. GSW', 'lat/lng_45.539131, -122.651648',\n",
    "       'home/away_MANU @ BOS', 'lat/lng_42.330507, -71.074655',\n",
    "       'game_season_OTHER', 'lat/lng_32.757824, -96.786653',\n",
    "       'shot_basics_Goal Line', 'lat/lng_34.189593, -118.471724',\n",
    "       'lat/lng_35.103812, -89.964007', 'home/away_MANU @ UTA',\n",
    "       'shot_basics_Mid Range', 'shot_basics_Penalty Spot',\n",
    "       'home/away_MANU @ MIN', 'range_of_shot_16-24 ft.']]"
   ]
  },
  {
   "cell_type": "code",
   "execution_count": 86,
   "metadata": {},
   "outputs": [],
   "source": [
    "X_train,X_test, y_train, y_test = train_test_split(data, y, stratify=y, test_size=0.2, random_state=42)"
   ]
  },
  {
   "cell_type": "code",
   "execution_count": 87,
   "metadata": {},
   "outputs": [
    {
     "data": {
      "text/html": [
       "<div>\n",
       "<style scoped>\n",
       "    .dataframe tbody tr th:only-of-type {\n",
       "        vertical-align: middle;\n",
       "    }\n",
       "\n",
       "    .dataframe tbody tr th {\n",
       "        vertical-align: top;\n",
       "    }\n",
       "\n",
       "    .dataframe thead th {\n",
       "        text-align: right;\n",
       "    }\n",
       "</style>\n",
       "<table border=\"1\" class=\"dataframe\">\n",
       "  <thead>\n",
       "    <tr style=\"text-align: right;\">\n",
       "      <th></th>\n",
       "      <th>distance_of_shot</th>\n",
       "      <th>type_of_shot_shot - 39</th>\n",
       "      <th>location_x</th>\n",
       "      <th>remaining_sec.1</th>\n",
       "      <th>type_of_shot_shot - 44</th>\n",
       "      <th>type_of_combined_shot_shot - 4</th>\n",
       "      <th>remaining_sec</th>\n",
       "      <th>location_y</th>\n",
       "      <th>remaining_min.1</th>\n",
       "      <th>distance_of_shot.1</th>\n",
       "      <th>...</th>\n",
       "      <th>game_season_OTHER</th>\n",
       "      <th>lat/lng_32.757824, -96.786653</th>\n",
       "      <th>shot_basics_Goal Line</th>\n",
       "      <th>lat/lng_34.189593, -118.471724</th>\n",
       "      <th>lat/lng_35.103812, -89.964007</th>\n",
       "      <th>home/away_MANU @ UTA</th>\n",
       "      <th>shot_basics_Mid Range</th>\n",
       "      <th>shot_basics_Penalty Spot</th>\n",
       "      <th>home/away_MANU @ MIN</th>\n",
       "      <th>range_of_shot_16-24 ft.</th>\n",
       "    </tr>\n",
       "  </thead>\n",
       "  <tbody>\n",
       "    <tr>\n",
       "      <th>5197</th>\n",
       "      <td>24.0</td>\n",
       "      <td>0</td>\n",
       "      <td>44.0</td>\n",
       "      <td>48.0000</td>\n",
       "      <td>0</td>\n",
       "      <td>0</td>\n",
       "      <td>48.0</td>\n",
       "      <td>-6.0</td>\n",
       "      <td>5.00</td>\n",
       "      <td>24.000</td>\n",
       "      <td>...</td>\n",
       "      <td>0</td>\n",
       "      <td>0</td>\n",
       "      <td>1</td>\n",
       "      <td>0</td>\n",
       "      <td>0</td>\n",
       "      <td>0</td>\n",
       "      <td>0</td>\n",
       "      <td>0</td>\n",
       "      <td>0</td>\n",
       "      <td>0</td>\n",
       "    </tr>\n",
       "    <tr>\n",
       "      <th>15650</th>\n",
       "      <td>32.0</td>\n",
       "      <td>0</td>\n",
       "      <td>122.0</td>\n",
       "      <td>53.0000</td>\n",
       "      <td>0</td>\n",
       "      <td>0</td>\n",
       "      <td>53.0</td>\n",
       "      <td>1.0</td>\n",
       "      <td>2.00</td>\n",
       "      <td>32.000</td>\n",
       "      <td>...</td>\n",
       "      <td>0</td>\n",
       "      <td>0</td>\n",
       "      <td>0</td>\n",
       "      <td>1</td>\n",
       "      <td>0</td>\n",
       "      <td>0</td>\n",
       "      <td>0</td>\n",
       "      <td>0</td>\n",
       "      <td>0</td>\n",
       "      <td>0</td>\n",
       "    </tr>\n",
       "    <tr>\n",
       "      <th>250</th>\n",
       "      <td>36.0</td>\n",
       "      <td>0</td>\n",
       "      <td>163.0</td>\n",
       "      <td>20.0000</td>\n",
       "      <td>0</td>\n",
       "      <td>0</td>\n",
       "      <td>20.0</td>\n",
       "      <td>7.0</td>\n",
       "      <td>6.00</td>\n",
       "      <td>36.000</td>\n",
       "      <td>...</td>\n",
       "      <td>0</td>\n",
       "      <td>0</td>\n",
       "      <td>0</td>\n",
       "      <td>0</td>\n",
       "      <td>0</td>\n",
       "      <td>0</td>\n",
       "      <td>0</td>\n",
       "      <td>0</td>\n",
       "      <td>0</td>\n",
       "      <td>1</td>\n",
       "    </tr>\n",
       "    <tr>\n",
       "      <th>20173</th>\n",
       "      <td>24.0</td>\n",
       "      <td>0</td>\n",
       "      <td>6.0</td>\n",
       "      <td>51.0000</td>\n",
       "      <td>0</td>\n",
       "      <td>0</td>\n",
       "      <td>51.0</td>\n",
       "      <td>45.0</td>\n",
       "      <td>111.64</td>\n",
       "      <td>24.000</td>\n",
       "      <td>...</td>\n",
       "      <td>0</td>\n",
       "      <td>0</td>\n",
       "      <td>1</td>\n",
       "      <td>0</td>\n",
       "      <td>0</td>\n",
       "      <td>0</td>\n",
       "      <td>0</td>\n",
       "      <td>0</td>\n",
       "      <td>0</td>\n",
       "      <td>0</td>\n",
       "    </tr>\n",
       "    <tr>\n",
       "      <th>28535</th>\n",
       "      <td>40.0</td>\n",
       "      <td>0</td>\n",
       "      <td>-202.0</td>\n",
       "      <td>65.7216</td>\n",
       "      <td>0</td>\n",
       "      <td>0</td>\n",
       "      <td>3.0</td>\n",
       "      <td>47.0</td>\n",
       "      <td>1.00</td>\n",
       "      <td>25.728</td>\n",
       "      <td>...</td>\n",
       "      <td>0</td>\n",
       "      <td>0</td>\n",
       "      <td>0</td>\n",
       "      <td>0</td>\n",
       "      <td>0</td>\n",
       "      <td>0</td>\n",
       "      <td>1</td>\n",
       "      <td>0</td>\n",
       "      <td>0</td>\n",
       "      <td>1</td>\n",
       "    </tr>\n",
       "  </tbody>\n",
       "</table>\n",
       "<p>5 rows × 100 columns</p>\n",
       "</div>"
      ],
      "text/plain": [
       "       distance_of_shot  type_of_shot_shot - 39  location_x  remaining_sec.1  \\\n",
       "5197               24.0                       0        44.0          48.0000   \n",
       "15650              32.0                       0       122.0          53.0000   \n",
       "250                36.0                       0       163.0          20.0000   \n",
       "20173              24.0                       0         6.0          51.0000   \n",
       "28535              40.0                       0      -202.0          65.7216   \n",
       "\n",
       "       type_of_shot_shot - 44  type_of_combined_shot_shot - 4  remaining_sec  \\\n",
       "5197                        0                               0           48.0   \n",
       "15650                       0                               0           53.0   \n",
       "250                         0                               0           20.0   \n",
       "20173                       0                               0           51.0   \n",
       "28535                       0                               0            3.0   \n",
       "\n",
       "       location_y  remaining_min.1  distance_of_shot.1  ...  \\\n",
       "5197         -6.0             5.00              24.000  ...   \n",
       "15650         1.0             2.00              32.000  ...   \n",
       "250           7.0             6.00              36.000  ...   \n",
       "20173        45.0           111.64              24.000  ...   \n",
       "28535        47.0             1.00              25.728  ...   \n",
       "\n",
       "       game_season_OTHER  lat/lng_32.757824, -96.786653  \\\n",
       "5197                   0                              0   \n",
       "15650                  0                              0   \n",
       "250                    0                              0   \n",
       "20173                  0                              0   \n",
       "28535                  0                              0   \n",
       "\n",
       "       shot_basics_Goal Line  lat/lng_34.189593, -118.471724  \\\n",
       "5197                       1                               0   \n",
       "15650                      0                               1   \n",
       "250                        0                               0   \n",
       "20173                      1                               0   \n",
       "28535                      0                               0   \n",
       "\n",
       "       lat/lng_35.103812, -89.964007  home/away_MANU @ UTA  \\\n",
       "5197                               0                     0   \n",
       "15650                              0                     0   \n",
       "250                                0                     0   \n",
       "20173                              0                     0   \n",
       "28535                              0                     0   \n",
       "\n",
       "       shot_basics_Mid Range  shot_basics_Penalty Spot  home/away_MANU @ MIN  \\\n",
       "5197                       0                         0                     0   \n",
       "15650                      0                         0                     0   \n",
       "250                        0                         0                     0   \n",
       "20173                      0                         0                     0   \n",
       "28535                      1                         0                     0   \n",
       "\n",
       "       range_of_shot_16-24 ft.  \n",
       "5197                         0  \n",
       "15650                        0  \n",
       "250                          1  \n",
       "20173                        0  \n",
       "28535                        1  \n",
       "\n",
       "[5 rows x 100 columns]"
      ]
     },
     "execution_count": 87,
     "metadata": {},
     "output_type": "execute_result"
    }
   ],
   "source": [
    "X_train.head()"
   ]
  },
  {
   "cell_type": "code",
   "execution_count": 88,
   "metadata": {},
   "outputs": [],
   "source": [
    "X_train, X_test=standardize(X_train, X_test)"
   ]
  },
  {
   "cell_type": "code",
   "execution_count": 89,
   "metadata": {},
   "outputs": [
    {
     "name": "stdout",
     "output_type": "stream",
     "text": [
      "Best HyperParameter:  {'max_depth': 9, 'n_estimators': 225}\n"
     ]
    }
   ],
   "source": [
    "# performing hyperparameter tuning of max_depth and n_estimators features using grid search and by using random forest classifier \n",
    "random_classifier = RandomForestClassifier()\n",
    "\n",
    "parameters = { 'max_depth':np.arange(5,10),'n_estimators':list(range(50,301,25))}\n",
    "\n",
    "random_grid = GridSearchCV(random_classifier, parameters, cv = 3,scoring = 'neg_mean_absolute_error')\n",
    "\n",
    "random_grid.fit(X_train, y_train)\n",
    "\n",
    "print(\"Best HyperParameter: \",random_grid.best_params_)"
   ]
  },
  {
   "cell_type": "code",
   "execution_count": 90,
   "metadata": {},
   "outputs": [
    {
     "data": {
      "text/plain": [
       "RandomForestClassifier(bootstrap=True, class_weight='balanced',\n",
       "            criterion='gini', max_depth=9, max_features=None,\n",
       "            max_leaf_nodes=None, min_impurity_decrease=0.0,\n",
       "            min_impurity_split=None, min_samples_leaf=1,\n",
       "            min_samples_split=2, min_weight_fraction_leaf=0.0,\n",
       "            n_estimators=225, n_jobs=-1, oob_score=True, random_state=42,\n",
       "            verbose=0, warm_start=False)"
      ]
     },
     "execution_count": 90,
     "metadata": {},
     "output_type": "execute_result"
    }
   ],
   "source": [
    "rf_model = RandomForestClassifier(\n",
    "    n_estimators=225,\n",
    "    #criterion='entropy',\n",
    "    max_depth=9,   # expand until all leaves are pure or contain < MIN_SAMPLES_SPLIT samples\n",
    "    #min_samples_split=100,\n",
    "    #min_samples_leaf=50,\n",
    "    #min_weight_fraction_leaf=0.0,\n",
    "    max_features=None,   # number of features to consider when looking for the best split; None: max_features=n_features\n",
    "    max_leaf_nodes=None,   # None: unlimited number of leaf nodes\n",
    "    bootstrap=True,\n",
    "    oob_score=True,   # estimate Out-of-Bag Cross Entropy\n",
    "    n_jobs=-1,   # paralellize over all CPU cores but 2\n",
    "    class_weight='balanced',    # our classes are skewed, but but too skewed\n",
    "    random_state=42,\n",
    "    verbose=0,\n",
    "    warm_start=False)\n",
    "\n",
    "rf_model.fit(X=X_train, y=y_train)"
   ]
  },
  {
   "cell_type": "code",
   "execution_count": 91,
   "metadata": {},
   "outputs": [
    {
     "name": "stdout",
     "output_type": "stream",
     "text": [
      "Accuracy on train dataset  0.6730841827104568\n",
      "AUC on train dataset  0.6461890026069905\n",
      "Mean absolute error on train dataset  0.6461890026069905\n"
     ]
    }
   ],
   "source": [
    "rf_pred_probs=rf_model.predict(X_train)\n",
    "acc=metrics.accuracy_score(y_train,rf_pred_probs)\n",
    "auc=metrics.roc_auc_score(y_train,rf_pred_probs)\n",
    "mae=metrics.mean_absolute_error(y_train,rf_pred_probs)\n",
    "print(\"Accuracy on train dataset \",acc)\n",
    "print(\"AUC on train dataset \",auc)\n",
    "print(\"Mean absolute error on train dataset \",auc)"
   ]
  },
  {
   "cell_type": "code",
   "execution_count": 92,
   "metadata": {},
   "outputs": [
    {
     "name": "stdout",
     "output_type": "stream",
     "text": [
      "Accuracy on test dataset  0.6214408973252804\n",
      "AUC on test dataset  0.5938838205614306\n",
      "Mean absolute error on test dataset  0.3785591026747196\n"
     ]
    }
   ],
   "source": [
    "rf_pred_probs=rf_model.predict(X_test)\n",
    "\n",
    "acc=metrics.accuracy_score(y_test,rf_pred_probs)\n",
    "auc=metrics.roc_auc_score(y_test,rf_pred_probs)\n",
    "mae=metrics.mean_absolute_error(y_test,rf_pred_probs)\n",
    "print(\"Accuracy on test dataset \",acc)\n",
    "print(\"AUC on test dataset \",auc)\n",
    "print(\"Mean absolute error on test dataset \",mae)"
   ]
  },
  {
   "cell_type": "markdown",
   "metadata": {},
   "source": [
    "### MLP model"
   ]
  },
  {
   "cell_type": "code",
   "execution_count": 93,
   "metadata": {},
   "outputs": [
    {
     "data": {
      "text/plain": [
       "((18543, 100), (4636, 100), (18543,), (4636,))"
      ]
     },
     "execution_count": 93,
     "metadata": {},
     "output_type": "execute_result"
    }
   ],
   "source": [
    "X_train.shape, X_test.shape, y_train.shape, y_test.shape"
   ]
  },
  {
   "cell_type": "code",
   "execution_count": 94,
   "metadata": {},
   "outputs": [],
   "source": [
    "output_dim = 1\n",
    "input_dim = X_train.shape[1]\n",
    "\n",
    "batch_size = 256\n"
   ]
  },
  {
   "cell_type": "code",
   "execution_count": 95,
   "metadata": {},
   "outputs": [
    {
     "name": "stdout",
     "output_type": "stream",
     "text": [
      "WARNING:tensorflow:From C:\\Users\\abc\\Anaconda3\\lib\\site-packages\\tensorflow\\python\\framework\\op_def_library.py:263: colocate_with (from tensorflow.python.framework.ops) is deprecated and will be removed in a future version.\n",
      "Instructions for updating:\n",
      "Colocations handled automatically by placer.\n",
      "WARNING:tensorflow:From C:\\Users\\abc\\Anaconda3\\lib\\site-packages\\keras\\backend\\tensorflow_backend.py:3445: calling dropout (from tensorflow.python.ops.nn_ops) with keep_prob is deprecated and will be removed in a future version.\n",
      "Instructions for updating:\n",
      "Please use `rate` instead of `keep_prob`. Rate should be set to `rate = 1 - keep_prob`.\n",
      "_________________________________________________________________\n",
      "Layer (type)                 Output Shape              Param #   \n",
      "=================================================================\n",
      "dense_1 (Dense)              (None, 512)               51712     \n",
      "_________________________________________________________________\n",
      "dropout_1 (Dropout)          (None, 512)               0         \n",
      "_________________________________________________________________\n",
      "dense_2 (Dense)              (None, 128)               65664     \n",
      "_________________________________________________________________\n",
      "dropout_2 (Dropout)          (None, 128)               0         \n",
      "_________________________________________________________________\n",
      "dense_3 (Dense)              (None, 64)                8256      \n",
      "_________________________________________________________________\n",
      "dropout_3 (Dropout)          (None, 64)                0         \n",
      "_________________________________________________________________\n",
      "batch_normalization_1 (Batch (None, 64)                256       \n",
      "_________________________________________________________________\n",
      "dense_4 (Dense)              (None, 1)                 65        \n",
      "=================================================================\n",
      "Total params: 125,953\n",
      "Trainable params: 125,825\n",
      "Non-trainable params: 128\n",
      "_________________________________________________________________\n"
     ]
    }
   ],
   "source": [
    "model = Sequential()\n",
    "model.add(Dense(512, activation='relu', input_shape=(input_dim,), kernel_initializer='he_normal'))\n",
    "model.add(Dropout(0.2))\n",
    "model.add(Dense(128, activation='relu', kernel_initializer='he_normal') )\n",
    "model.add(Dropout(0.5))\n",
    "model.add(Dense(64, activation='relu', kernel_initializer='he_normal') )\n",
    "model.add(Dropout(0.5))\n",
    "model.add(BatchNormalization())\n",
    "model.add(Dense(output_dim, activation='sigmoid'))\n",
    "model.summary()"
   ]
  },
  {
   "cell_type": "code",
   "execution_count": 96,
   "metadata": {},
   "outputs": [
    {
     "name": "stdout",
     "output_type": "stream",
     "text": [
      "WARNING:tensorflow:From C:\\Users\\abc\\Anaconda3\\lib\\site-packages\\tensorflow\\python\\ops\\math_ops.py:3066: to_int32 (from tensorflow.python.ops.math_ops) is deprecated and will be removed in a future version.\n",
      "Instructions for updating:\n",
      "Use tf.cast instead.\n",
      "Train on 14834 samples, validate on 3709 samples\n",
      "Epoch 1/30\n",
      "14834/14834 [==============================] - 7s 443us/step - loss: 0.8301 - acc: 0.5256 - val_loss: 0.6898 - val_acc: 0.5398\n",
      "Epoch 2/30\n",
      "14834/14834 [==============================] - 1s 81us/step - loss: 0.7545 - acc: 0.5528 - val_loss: 0.6676 - val_acc: 0.5821\n",
      "Epoch 3/30\n",
      "14834/14834 [==============================] - 1s 82us/step - loss: 0.7040 - acc: 0.5807 - val_loss: 0.6609 - val_acc: 0.5948\n",
      "Epoch 4/30\n",
      "14834/14834 [==============================] - 1s 79us/step - loss: 0.6941 - acc: 0.5771 - val_loss: 0.6545 - val_acc: 0.6185\n",
      "Epoch 5/30\n",
      "14834/14834 [==============================] - 1s 78us/step - loss: 0.6783 - acc: 0.5940 - val_loss: 0.6528 - val_acc: 0.6174\n",
      "Epoch 6/30\n",
      "14834/14834 [==============================] - 1s 78us/step - loss: 0.6670 - acc: 0.6070 - val_loss: 0.6528 - val_acc: 0.6223\n",
      "Epoch 7/30\n",
      "14834/14834 [==============================] - 1s 78us/step - loss: 0.6583 - acc: 0.6108 - val_loss: 0.6516 - val_acc: 0.6215\n",
      "Epoch 8/30\n",
      "14834/14834 [==============================] - 1s 78us/step - loss: 0.6542 - acc: 0.6203 - val_loss: 0.6510 - val_acc: 0.6204\n",
      "Epoch 9/30\n",
      "14834/14834 [==============================] - 1s 77us/step - loss: 0.6500 - acc: 0.6253 - val_loss: 0.6509 - val_acc: 0.6207\n",
      "Epoch 10/30\n",
      "14834/14834 [==============================] - 1s 78us/step - loss: 0.6492 - acc: 0.6285 - val_loss: 0.6507 - val_acc: 0.6193\n",
      "Epoch 11/30\n",
      "14834/14834 [==============================] - 1s 77us/step - loss: 0.6448 - acc: 0.6319 - val_loss: 0.6506 - val_acc: 0.6223\n",
      "Epoch 12/30\n",
      "14834/14834 [==============================] - 1s 78us/step - loss: 0.6437 - acc: 0.6325 - val_loss: 0.6507 - val_acc: 0.6217\n",
      "Epoch 13/30\n",
      "14834/14834 [==============================] - 1s 80us/step - loss: 0.6427 - acc: 0.6360 - val_loss: 0.6514 - val_acc: 0.6212\n",
      "Epoch 14/30\n",
      "14834/14834 [==============================] - 1s 77us/step - loss: 0.6386 - acc: 0.6327 - val_loss: 0.6515 - val_acc: 0.6180\n",
      "Epoch 15/30\n",
      "14834/14834 [==============================] - 1s 79us/step - loss: 0.6376 - acc: 0.6375 - val_loss: 0.6512 - val_acc: 0.6212\n",
      "Epoch 16/30\n",
      "14834/14834 [==============================] - 1s 77us/step - loss: 0.6344 - acc: 0.6410 - val_loss: 0.6522 - val_acc: 0.6180\n",
      "Epoch 17/30\n",
      "14834/14834 [==============================] - 1s 78us/step - loss: 0.6336 - acc: 0.6410 - val_loss: 0.6525 - val_acc: 0.6158\n",
      "Epoch 18/30\n",
      "14834/14834 [==============================] - 1s 78us/step - loss: 0.6319 - acc: 0.6395 - val_loss: 0.6528 - val_acc: 0.6169\n",
      "Epoch 19/30\n",
      "14834/14834 [==============================] - 1s 79us/step - loss: 0.6269 - acc: 0.6479 - val_loss: 0.6537 - val_acc: 0.6166\n",
      "Epoch 20/30\n",
      "14834/14834 [==============================] - 1s 81us/step - loss: 0.6223 - acc: 0.6448 - val_loss: 0.6544 - val_acc: 0.6193\n",
      "Epoch 21/30\n",
      "14834/14834 [==============================] - 1s 80us/step - loss: 0.6239 - acc: 0.6484 - val_loss: 0.6535 - val_acc: 0.6171\n",
      "Epoch 22/30\n",
      "14834/14834 [==============================] - 1s 78us/step - loss: 0.6211 - acc: 0.6482 - val_loss: 0.6555 - val_acc: 0.6155\n",
      "Epoch 23/30\n",
      "14834/14834 [==============================] - 1s 79us/step - loss: 0.6155 - acc: 0.6548 - val_loss: 0.6564 - val_acc: 0.6085\n",
      "Epoch 24/30\n",
      "14834/14834 [==============================] - 1s 78us/step - loss: 0.6092 - acc: 0.6589 - val_loss: 0.6585 - val_acc: 0.6080\n",
      "Epoch 25/30\n",
      "14834/14834 [==============================] - 1s 77us/step - loss: 0.6084 - acc: 0.6571 - val_loss: 0.6604 - val_acc: 0.5961\n",
      "Epoch 26/30\n",
      "14834/14834 [==============================] - 1s 78us/step - loss: 0.6051 - acc: 0.6648 - val_loss: 0.6599 - val_acc: 0.6053\n",
      "Epoch 27/30\n",
      "14834/14834 [==============================] - 1s 84us/step - loss: 0.6032 - acc: 0.6647 - val_loss: 0.6623 - val_acc: 0.6002\n",
      "Epoch 28/30\n",
      "14834/14834 [==============================] - 2s 113us/step - loss: 0.5974 - acc: 0.6687 - val_loss: 0.6608 - val_acc: 0.6061\n",
      "Epoch 29/30\n",
      "14834/14834 [==============================] - 2s 122us/step - loss: 0.5915 - acc: 0.6730 - val_loss: 0.6667 - val_acc: 0.6080\n",
      "Epoch 30/30\n",
      "14834/14834 [==============================] - 1s 88us/step - loss: 0.5923 - acc: 0.6766 - val_loss: 0.6697 - val_acc: 0.5913\n"
     ]
    }
   ],
   "source": [
    "model.compile(optimizer='adam', loss='binary_crossentropy', metrics=['accuracy'])\n",
    "history = model.fit(X_train.values, y_train.values, batch_size=batch_size, epochs=30, verbose=1, validation_split=0.2)"
   ]
  },
  {
   "cell_type": "code",
   "execution_count": 97,
   "metadata": {},
   "outputs": [
    {
     "name": "stdout",
     "output_type": "stream",
     "text": [
      "Test score: 0.6797598891982342\n",
      "Test accuracy: 0.5940465919924153\n"
     ]
    }
   ],
   "source": [
    "score = model.evaluate(X_test, y_test, verbose=0)\n",
    "print('Test score:', score[0])\n",
    "print('Test accuracy:', score[1])"
   ]
  },
  {
   "cell_type": "code",
   "execution_count": 98,
   "metadata": {},
   "outputs": [
    {
     "name": "stdout",
     "output_type": "stream",
     "text": [
      "ROC-AUC score is 0.6127807553612984\n",
      "Mean absolute error score is 0.4576537041339101\n"
     ]
    }
   ],
   "source": [
    "y_pred = model.predict(X_test)\n",
    "print(\"ROC-AUC score is {}\".format(metrics.roc_auc_score(y_test, y_pred)))\n",
    "print(\"Mean absolute error score is {}\".format(metrics.mean_absolute_error(y_test, y_pred)))"
   ]
  },
  {
   "cell_type": "markdown",
   "metadata": {},
   "source": [
    "### 1D CNN model"
   ]
  },
  {
   "cell_type": "code",
   "execution_count": 87,
   "metadata": {},
   "outputs": [
    {
     "name": "stdout",
     "output_type": "stream",
     "text": [
      "_________________________________________________________________\n",
      "Layer (type)                 Output Shape              Param #   \n",
      "=================================================================\n",
      "conv1d_1 (Conv1D)            (None, 100, 128)          256       \n",
      "_________________________________________________________________\n",
      "max_pooling1d_1 (MaxPooling1 (None, 50, 128)           0         \n",
      "_________________________________________________________________\n",
      "flatten_1 (Flatten)          (None, 6400)              0         \n",
      "_________________________________________________________________\n",
      "dropout_8 (Dropout)          (None, 6400)              0         \n",
      "_________________________________________________________________\n",
      "dense_10 (Dense)             (None, 256)               1638656   \n",
      "_________________________________________________________________\n",
      "dropout_9 (Dropout)          (None, 256)               0         \n",
      "_________________________________________________________________\n",
      "batch_normalization_4 (Batch (None, 256)               1024      \n",
      "_________________________________________________________________\n",
      "dense_11 (Dense)             (None, 128)               32896     \n",
      "_________________________________________________________________\n",
      "dense_12 (Dense)             (None, 1)                 129       \n",
      "=================================================================\n",
      "Total params: 1,672,961\n",
      "Trainable params: 1,672,449\n",
      "Non-trainable params: 512\n",
      "_________________________________________________________________\n"
     ]
    }
   ],
   "source": [
    "model1 = Sequential()\n",
    " \n",
    "model1.add(Conv1D(128, 1, input_shape=(input_dim, 1), activation='relu'))\n",
    "#model.add(MaxPooling1D(5))\n",
    "model1.add(MaxPooling1D(2))\n",
    "\n",
    "model1.add(Flatten())\n",
    "model1.add(Dropout(0.5))\n",
    "model1.add(Dense(256, activation='relu'))\n",
    "model1.add(Dropout(0.5))\n",
    "\n",
    " #model.add(Dense(256, activation='relu'))\n",
    "\n",
    "#model.add(Dropout(0.5))\n",
    "\n",
    "model1.add(BatchNormalization())\n",
    "model1.add(Dense(128, activation='relu'))\n",
    "model1.add(Dense(1, activation='sigmoid'))\n",
    "model1.summary()"
   ]
  },
  {
   "cell_type": "code",
   "execution_count": 88,
   "metadata": {},
   "outputs": [],
   "source": [
    "X_train_cnn = np.reshape(X_train.values, (X_train.shape[0], X_train.shape[1], 1))\n",
    "X_test_cnn = np.reshape(X_test.values, (X_test.shape[0], X_test.shape[1], 1))"
   ]
  },
  {
   "cell_type": "code",
   "execution_count": 89,
   "metadata": {},
   "outputs": [
    {
     "name": "stdout",
     "output_type": "stream",
     "text": [
      "Train on 14834 samples, validate on 3709 samples\n",
      "Epoch 1/10\n",
      "14834/14834 [==============================] - 33s 2ms/step - loss: 0.7145 - acc: 0.5770 - val_loss: 0.6696 - val_acc: 0.6026\n",
      "Epoch 2/10\n",
      "14834/14834 [==============================] - 33s 2ms/step - loss: 0.6773 - acc: 0.5932 - val_loss: 0.6565 - val_acc: 0.6193\n",
      "Epoch 3/10\n",
      "14834/14834 [==============================] - 28s 2ms/step - loss: 0.6713 - acc: 0.6052 - val_loss: 0.6583 - val_acc: 0.6099\n",
      "Epoch 4/10\n",
      "14834/14834 [==============================] - 30s 2ms/step - loss: 0.6624 - acc: 0.6130 - val_loss: 0.6592 - val_acc: 0.6139\n",
      "Epoch 5/10\n",
      "14834/14834 [==============================] - 27s 2ms/step - loss: 0.6574 - acc: 0.6193 - val_loss: 0.6560 - val_acc: 0.6174\n",
      "Epoch 6/10\n",
      "14834/14834 [==============================] - 28s 2ms/step - loss: 0.6525 - acc: 0.6237 - val_loss: 0.6523 - val_acc: 0.6269\n",
      "Epoch 7/10\n",
      "14834/14834 [==============================] - 29s 2ms/step - loss: 0.6533 - acc: 0.6211 - val_loss: 0.6545 - val_acc: 0.6239\n",
      "Epoch 8/10\n",
      "14834/14834 [==============================] - 27s 2ms/step - loss: 0.6463 - acc: 0.6294 - val_loss: 0.6531 - val_acc: 0.6180\n",
      "Epoch 9/10\n",
      "14834/14834 [==============================] - 27s 2ms/step - loss: 0.6455 - acc: 0.6282 - val_loss: 0.6494 - val_acc: 0.6244\n",
      "Epoch 10/10\n",
      "14834/14834 [==============================] - 28s 2ms/step - loss: 0.6451 - acc: 0.6283 - val_loss: 0.6489 - val_acc: 0.6212\n",
      "Test score: 0.6578637705063182\n",
      "Test accuracy: 0.6179896461439092\n"
     ]
    }
   ],
   "source": [
    "model1.compile(optimizer='adam', loss='binary_crossentropy', metrics=['accuracy'])\n",
    "history = model1.fit(X_train_cnn, y_train, batch_size=batch_size, epochs=10, verbose=1, validation_split=0.2)\n",
    "score = model1.evaluate(X_test_cnn, y_test, verbose=0)\n",
    "print('Test score:', score[0])\n",
    "print('Test accuracy:', score[1])"
   ]
  },
  {
   "cell_type": "code",
   "execution_count": 90,
   "metadata": {},
   "outputs": [
    {
     "name": "stdout",
     "output_type": "stream",
     "text": [
      "ROC-AUC score is 0.6211376095639293\n",
      "Mean absolute error score is 0.4575589044699389\n"
     ]
    }
   ],
   "source": [
    "y_pred = model1.predict(X_test_cnn)\n",
    "print(\"ROC-AUC score is {}\".format( metrics.roc_auc_score(y_test, y_pred)))\n",
    "print(\"Mean absolute error score is {}\".format(metrics.mean_absolute_error(y_test, y_pred)))"
   ]
  },
  {
   "cell_type": "code",
   "execution_count": 99,
   "metadata": {},
   "outputs": [
    {
     "name": "stdout",
     "output_type": "stream",
     "text": [
      "+---------------------+----------+----------+\n",
      "|      Model Name     | Test AUC | Test MAE |\n",
      "+---------------------+----------+----------+\n",
      "| Logistic Regression |  0.587   |  0.385   |\n",
      "|    Random Forest    |  0.593   |  0.378   |\n",
      "|      MLP model      |  0.612   |  0.457   |\n",
      "|     1D CNN model    |  0.621   |  0.457   |\n",
      "+---------------------+----------+----------+\n"
     ]
    }
   ],
   "source": [
    "x = PrettyTable()\n",
    "\n",
    "x.field_names = [\"Model Name\", \"Test AUC\", \"Test MAE\"]\n",
    "x.add_row(['Logistic Regression', '0.587', '0.385'])\n",
    "x.add_row(['Random Forest', '0.593', '0.378'])\n",
    "x.add_row(['MLP model', '0.612', '0.457'])\n",
    "x.add_row(['1D CNN model', '0.621', '0.457'])\n",
    "\n",
    "print(x)"
   ]
  },
  {
   "cell_type": "code",
   "execution_count": 100,
   "metadata": {},
   "outputs": [],
   "source": [
    "sub1=pd.read_csv('nikhil_agrawal_050696_prediction_1.csv')\n",
    "sub2=pd.read_csv('nikhil_agrawal_050696_prediction_2.csv')\n",
    "sub3=pd.read_csv('nikhil_agrawal_050696_prediction_3.csv')\n",
    "sub4=pd.read_csv('nikhil_agrawal_050696_prediction_4.csv')\n",
    "sub5=pd.read_csv('nikhil_agrawal_050696_prediction_5.csv')\n",
    "temp=pd.read_csv('nikhil_agrawal_050696_prediction_2.csv')"
   ]
  },
  {
   "cell_type": "code",
   "execution_count": 101,
   "metadata": {},
   "outputs": [],
   "source": [
    "temp['is_goal'] = 0.2*sub1['is_goal'] + 0.2*sub2['is_goal']+ 0.2*sub3['is_goal']+ 0.3*sub4['is_goal']+ 0.3*sub5['is_goal']\n",
    "temp.to_csv('submission6.csv', index=False )"
   ]
  },
  {
   "cell_type": "code",
   "execution_count": 104,
   "metadata": {},
   "outputs": [
    {
     "data": {
      "text/html": [
       "<div>\n",
       "<style scoped>\n",
       "    .dataframe tbody tr th:only-of-type {\n",
       "        vertical-align: middle;\n",
       "    }\n",
       "\n",
       "    .dataframe tbody tr th {\n",
       "        vertical-align: top;\n",
       "    }\n",
       "\n",
       "    .dataframe thead th {\n",
       "        text-align: right;\n",
       "    }\n",
       "</style>\n",
       "<table border=\"1\" class=\"dataframe\">\n",
       "  <thead>\n",
       "    <tr style=\"text-align: right;\">\n",
       "      <th></th>\n",
       "      <th>shot_id_number</th>\n",
       "      <th>is_goal</th>\n",
       "    </tr>\n",
       "  </thead>\n",
       "  <tbody>\n",
       "    <tr>\n",
       "      <th>0</th>\n",
       "      <td>4</td>\n",
       "      <td>0.31560</td>\n",
       "    </tr>\n",
       "    <tr>\n",
       "      <th>1</th>\n",
       "      <td>12</td>\n",
       "      <td>0.32540</td>\n",
       "    </tr>\n",
       "    <tr>\n",
       "      <th>2</th>\n",
       "      <td>13</td>\n",
       "      <td>0.85650</td>\n",
       "    </tr>\n",
       "    <tr>\n",
       "      <th>3</th>\n",
       "      <td>14</td>\n",
       "      <td>0.59805</td>\n",
       "    </tr>\n",
       "    <tr>\n",
       "      <th>4</th>\n",
       "      <td>15</td>\n",
       "      <td>0.72095</td>\n",
       "    </tr>\n",
       "  </tbody>\n",
       "</table>\n",
       "</div>"
      ],
      "text/plain": [
       "   shot_id_number  is_goal\n",
       "0               4  0.31560\n",
       "1              12  0.32540\n",
       "2              13  0.85650\n",
       "3              14  0.59805\n",
       "4              15  0.72095"
      ]
     },
     "execution_count": 104,
     "metadata": {},
     "output_type": "execute_result"
    }
   ],
   "source": [
    "temp.head()"
   ]
  },
  {
   "cell_type": "code",
   "execution_count": null,
   "metadata": {},
   "outputs": [],
   "source": []
  }
 ],
 "metadata": {
  "kernelspec": {
   "display_name": "Python 3",
   "language": "python",
   "name": "python3"
  },
  "language_info": {
   "codemirror_mode": {
    "name": "ipython",
    "version": 3
   },
   "file_extension": ".py",
   "mimetype": "text/x-python",
   "name": "python",
   "nbconvert_exporter": "python",
   "pygments_lexer": "ipython3",
   "version": "3.7.1"
  }
 },
 "nbformat": 4,
 "nbformat_minor": 2
}
